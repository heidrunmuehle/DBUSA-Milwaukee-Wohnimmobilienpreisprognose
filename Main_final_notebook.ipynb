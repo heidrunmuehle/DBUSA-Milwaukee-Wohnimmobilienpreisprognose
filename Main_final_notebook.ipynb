{
 "cells": [
  {
   "cell_type": "markdown",
   "metadata": {},
   "source": [
    "# MAIN PROJECT NOTEBOOK\n",
    "\n",
    "Anm. \"Ein einzelnes Notebook soll eure Analyse und die Darstellung der Ergebnisse darstellen.\"\n",
    "\n",
    "Environment für dieses Notebook: `ads-ml-full` (*requirements-py3.11-ads-ml-full.txt*)."
   ]
  },
  {
   "cell_type": "markdown",
   "metadata": {},
   "source": [
    "\n",
    "## Daten einlesen"
   ]
  },
  {
   "cell_type": "code",
   "execution_count": 459,
   "metadata": {},
   "outputs": [],
   "source": [
    "from pathlib import Path\n",
    "\n",
    "URL = (\n",
    "    \"https://data.milwaukee.gov/dataset/7a8b81f6-d750-4f62-aee8-30ffce1c64ce/resource/f083631f-e34e-4ad6-aba1-d6d7dd265170/download/2002-2018-property-sales-data.csv\"\n",
    ")\n",
    "data = Path(\"/Users/knaflhei/Documents/DBUSA/data/subset_wohnraum_final_clean.csv\")"
   ]
  },
  {
   "cell_type": "code",
   "execution_count": 460,
   "metadata": {},
   "outputs": [
    {
     "data": {
      "text/html": [
       "<div>\n",
       "<style scoped>\n",
       "    .dataframe tbody tr th:only-of-type {\n",
       "        vertical-align: middle;\n",
       "    }\n",
       "\n",
       "    .dataframe tbody tr th {\n",
       "        vertical-align: top;\n",
       "    }\n",
       "\n",
       "    .dataframe thead th {\n",
       "        text-align: right;\n",
       "    }\n",
       "</style>\n",
       "<table border=\"1\" class=\"dataframe\">\n",
       "  <thead>\n",
       "    <tr style=\"text-align: right;\">\n",
       "      <th></th>\n",
       "      <th>PropType</th>\n",
       "      <th>District</th>\n",
       "      <th>Style</th>\n",
       "      <th>Year_Built</th>\n",
       "      <th>Fin_sqft</th>\n",
       "      <th>Fbath</th>\n",
       "      <th>Lotsize</th>\n",
       "      <th>Sale_date</th>\n",
       "      <th>Sale_price</th>\n",
       "      <th>Fläche_pro_Bad</th>\n",
       "      <th>Immobilien_Alter</th>\n",
       "      <th>Premium</th>\n",
       "      <th>Nbhd_updated</th>\n",
       "    </tr>\n",
       "  </thead>\n",
       "  <tbody>\n",
       "    <tr>\n",
       "      <th>0</th>\n",
       "      <td>Residential</td>\n",
       "      <td>1</td>\n",
       "      <td>Cape Cod</td>\n",
       "      <td>1951</td>\n",
       "      <td>1620.0</td>\n",
       "      <td>2</td>\n",
       "      <td>7800.0</td>\n",
       "      <td>2003-12</td>\n",
       "      <td>148500</td>\n",
       "      <td>3900.0</td>\n",
       "      <td>73</td>\n",
       "      <td>0</td>\n",
       "      <td>Andere</td>\n",
       "    </tr>\n",
       "    <tr>\n",
       "      <th>1</th>\n",
       "      <td>Residential</td>\n",
       "      <td>13</td>\n",
       "      <td>Ranch</td>\n",
       "      <td>1956</td>\n",
       "      <td>986.0</td>\n",
       "      <td>1</td>\n",
       "      <td>10428.0</td>\n",
       "      <td>2003-12</td>\n",
       "      <td>105000</td>\n",
       "      <td>10428.0</td>\n",
       "      <td>68</td>\n",
       "      <td>0</td>\n",
       "      <td>Andere</td>\n",
       "    </tr>\n",
       "    <tr>\n",
       "      <th>2</th>\n",
       "      <td>Residential</td>\n",
       "      <td>9</td>\n",
       "      <td>Colonial</td>\n",
       "      <td>2007</td>\n",
       "      <td>2237.0</td>\n",
       "      <td>2</td>\n",
       "      <td>11129.0</td>\n",
       "      <td>2007-08</td>\n",
       "      <td>257000</td>\n",
       "      <td>5564.5</td>\n",
       "      <td>17</td>\n",
       "      <td>0</td>\n",
       "      <td>Andere</td>\n",
       "    </tr>\n",
       "    <tr>\n",
       "      <th>3</th>\n",
       "      <td>Residential</td>\n",
       "      <td>1</td>\n",
       "      <td>Colonial</td>\n",
       "      <td>2004</td>\n",
       "      <td>1470.0</td>\n",
       "      <td>2</td>\n",
       "      <td>5945.0</td>\n",
       "      <td>2009-01</td>\n",
       "      <td>107500</td>\n",
       "      <td>2972.5</td>\n",
       "      <td>20</td>\n",
       "      <td>0</td>\n",
       "      <td>Andere</td>\n",
       "    </tr>\n",
       "    <tr>\n",
       "      <th>4</th>\n",
       "      <td>Residential</td>\n",
       "      <td>2</td>\n",
       "      <td>Cape Cod</td>\n",
       "      <td>1954</td>\n",
       "      <td>1456.0</td>\n",
       "      <td>1</td>\n",
       "      <td>5590.0</td>\n",
       "      <td>2009-01</td>\n",
       "      <td>120900</td>\n",
       "      <td>5590.0</td>\n",
       "      <td>70</td>\n",
       "      <td>0</td>\n",
       "      <td>Andere</td>\n",
       "    </tr>\n",
       "    <tr>\n",
       "      <th>5</th>\n",
       "      <td>Residential</td>\n",
       "      <td>2</td>\n",
       "      <td>Ranch</td>\n",
       "      <td>1966</td>\n",
       "      <td>1379.0</td>\n",
       "      <td>1</td>\n",
       "      <td>8190.0</td>\n",
       "      <td>2009-01</td>\n",
       "      <td>129900</td>\n",
       "      <td>8190.0</td>\n",
       "      <td>58</td>\n",
       "      <td>0</td>\n",
       "      <td>Andere</td>\n",
       "    </tr>\n",
       "    <tr>\n",
       "      <th>6</th>\n",
       "      <td>Residential</td>\n",
       "      <td>2</td>\n",
       "      <td>Ranch</td>\n",
       "      <td>1962</td>\n",
       "      <td>1361.0</td>\n",
       "      <td>1</td>\n",
       "      <td>5750.0</td>\n",
       "      <td>2009-01</td>\n",
       "      <td>126500</td>\n",
       "      <td>5750.0</td>\n",
       "      <td>62</td>\n",
       "      <td>0</td>\n",
       "      <td>Andere</td>\n",
       "    </tr>\n",
       "    <tr>\n",
       "      <th>7</th>\n",
       "      <td>Residential</td>\n",
       "      <td>2</td>\n",
       "      <td>Ranch</td>\n",
       "      <td>1964</td>\n",
       "      <td>1334.0</td>\n",
       "      <td>1</td>\n",
       "      <td>5544.0</td>\n",
       "      <td>2009-01</td>\n",
       "      <td>109000</td>\n",
       "      <td>5544.0</td>\n",
       "      <td>60</td>\n",
       "      <td>0</td>\n",
       "      <td>Andere</td>\n",
       "    </tr>\n",
       "    <tr>\n",
       "      <th>8</th>\n",
       "      <td>Residential</td>\n",
       "      <td>2</td>\n",
       "      <td>Ranch</td>\n",
       "      <td>1962</td>\n",
       "      <td>1334.0</td>\n",
       "      <td>1</td>\n",
       "      <td>5250.0</td>\n",
       "      <td>2009-01</td>\n",
       "      <td>108000</td>\n",
       "      <td>5250.0</td>\n",
       "      <td>62</td>\n",
       "      <td>0</td>\n",
       "      <td>Andere</td>\n",
       "    </tr>\n",
       "    <tr>\n",
       "      <th>9</th>\n",
       "      <td>Residential</td>\n",
       "      <td>2</td>\n",
       "      <td>Ranch</td>\n",
       "      <td>1959</td>\n",
       "      <td>1288.0</td>\n",
       "      <td>2</td>\n",
       "      <td>5400.0</td>\n",
       "      <td>2009-01</td>\n",
       "      <td>115000</td>\n",
       "      <td>2700.0</td>\n",
       "      <td>65</td>\n",
       "      <td>0</td>\n",
       "      <td>Andere</td>\n",
       "    </tr>\n",
       "  </tbody>\n",
       "</table>\n",
       "</div>"
      ],
      "text/plain": [
       "      PropType  District     Style  Year_Built  Fin_sqft  Fbath  Lotsize  \\\n",
       "0  Residential         1  Cape Cod        1951    1620.0      2   7800.0   \n",
       "1  Residential        13     Ranch        1956     986.0      1  10428.0   \n",
       "2  Residential         9  Colonial        2007    2237.0      2  11129.0   \n",
       "3  Residential         1  Colonial        2004    1470.0      2   5945.0   \n",
       "4  Residential         2  Cape Cod        1954    1456.0      1   5590.0   \n",
       "5  Residential         2     Ranch        1966    1379.0      1   8190.0   \n",
       "6  Residential         2     Ranch        1962    1361.0      1   5750.0   \n",
       "7  Residential         2     Ranch        1964    1334.0      1   5544.0   \n",
       "8  Residential         2     Ranch        1962    1334.0      1   5250.0   \n",
       "9  Residential         2     Ranch        1959    1288.0      2   5400.0   \n",
       "\n",
       "  Sale_date  Sale_price  Fläche_pro_Bad  Immobilien_Alter  Premium  \\\n",
       "0   2003-12      148500          3900.0                73        0   \n",
       "1   2003-12      105000         10428.0                68        0   \n",
       "2   2007-08      257000          5564.5                17        0   \n",
       "3   2009-01      107500          2972.5                20        0   \n",
       "4   2009-01      120900          5590.0                70        0   \n",
       "5   2009-01      129900          8190.0                58        0   \n",
       "6   2009-01      126500          5750.0                62        0   \n",
       "7   2009-01      109000          5544.0                60        0   \n",
       "8   2009-01      108000          5250.0                62        0   \n",
       "9   2009-01      115000          2700.0                65        0   \n",
       "\n",
       "  Nbhd_updated  \n",
       "0       Andere  \n",
       "1       Andere  \n",
       "2       Andere  \n",
       "3       Andere  \n",
       "4       Andere  \n",
       "5       Andere  \n",
       "6       Andere  \n",
       "7       Andere  \n",
       "8       Andere  \n",
       "9       Andere  "
      ]
     },
     "execution_count": 460,
     "metadata": {},
     "output_type": "execute_result"
    }
   ],
   "source": [
    "import pandas as pd\n",
    "\n",
    "data = pd.read_csv(\"/Users/knaflhei/Documents/DBUSA/data/subset_wohnraum_final_clean.csv\") \n",
    "data.head(10)"
   ]
  },
  {
   "cell_type": "code",
   "execution_count": 461,
   "metadata": {},
   "outputs": [],
   "source": [
    "from sklearn import set_config\n",
    "\n",
    "set_config(transform_output=\"pandas\")"
   ]
  },
  {
   "cell_type": "markdown",
   "metadata": {},
   "source": [
    "## Trainings- und Testdaten"
   ]
  },
  {
   "cell_type": "code",
   "execution_count": 462,
   "metadata": {},
   "outputs": [],
   "source": [
    "unlabeled = data[data[\"Sale_price\"].isna()].copy()\n",
    "labeled = data[data[\"Sale_price\"].notna()].copy()"
   ]
  },
  {
   "cell_type": "code",
   "execution_count": 464,
   "metadata": {},
   "outputs": [
    {
     "data": {
      "text/plain": [
       "(9192, 13)"
      ]
     },
     "execution_count": 464,
     "metadata": {},
     "output_type": "execute_result"
    }
   ],
   "source": [
    "labeled.shape"
   ]
  },
  {
   "cell_type": "code",
   "execution_count": 465,
   "metadata": {},
   "outputs": [],
   "source": [
    "from sklearn.model_selection import train_test_split\n",
    "\n",
    "y = \"Sale_price\"\n",
    "X = data.columns.to_list()\n",
    "X.remove(y)\n",
    "train_data, test_data = train_test_split(\n",
    "    labeled,\n",
    "    test_size=0.2,\n",
    "    random_state=42,\n",
    "    stratify=labeled[\"Year_Built\"],\n",
    ")"
   ]
  },
  {
   "cell_type": "markdown",
   "metadata": {},
   "source": [
    "### Pipeline und Modellauswahl "
   ]
  },
  {
   "cell_type": "code",
   "execution_count": 467,
   "metadata": {},
   "outputs": [],
   "source": [
    "num_cols_6 = [\n",
    "    \"Lotsize\", \n",
    "    \"Fbath\",\n",
    "    \"Fin_sqft\",\n",
    "    \"Fläche_pro_Bad\",\n",
    "    \"Immobilien_Alter\", \n",
    "   \n",
    "]\n",
    "\n",
    "cat_cols_6 = [\n",
    "    \"PropType\",\n",
    "    \"District\",\n",
    "    \"Style\",\n",
    "    \"Year_Built\",\n",
    "    \"Nbhd_updated\",\n",
    "    \"Premium\",\n",
    "]\n",
    "cols_set_6 = [*num_cols_6, *cat_cols_6]\n",
    "\n"
   ]
  },
  {
   "cell_type": "code",
   "execution_count": null,
   "metadata": {},
   "outputs": [],
   "source": []
  },
  {
   "cell_type": "code",
   "execution_count": 468,
   "metadata": {},
   "outputs": [],
   "source": [
    "from sklearn.compose import ColumnTransformer\n",
    "from sklearn.experimental import enable_iterative_imputer\n",
    "from sklearn.impute import IterativeImputer\n",
    "\n",
    "ct_6a = ColumnTransformer(\n",
    "    transformers=[\n",
    "        (\"imp\", IterativeImputer(random_state=42), num_cols_6),\n",
    "    ],\n",
    "    remainder=\"passthrough\",\n",
    ")"
   ]
  },
  {
   "cell_type": "code",
   "execution_count": 469,
   "metadata": {},
   "outputs": [],
   "source": [
    "from sklearn.preprocessing import OneHotEncoder, StandardScaler\n",
    "\n",
    "ct_6b = ColumnTransformer(\n",
    "    transformers=[\n",
    "        (\"scale\", StandardScaler(), [\"imp__\" + c for c in num_cols_6]),\n",
    "        (\n",
    "            \"ohe\",\n",
    "            OneHotEncoder(sparse_output=False, handle_unknown=\"ignore\"),\n",
    "            [\"remainder__\" + c for c in cat_cols_6],\n",
    "        ),\n",
    "    ],\n",
    ")"
   ]
  },
  {
   "cell_type": "code",
   "execution_count": 470,
   "metadata": {},
   "outputs": [],
   "source": [
    "from sklearn.pipeline import Pipeline\n",
    "\n",
    "prep_6 = Pipeline(\n",
    "    steps=[\n",
    "        (\"prep_a\", ct_6a),\n",
    "        (\"prep_b\", ct_6b),\n",
    "    ]\n",
    ")"
   ]
  },
  {
   "cell_type": "code",
   "execution_count": 471,
   "metadata": {},
   "outputs": [],
   "source": [
    "from sklearn.ensemble import GradientBoostingRegressor\n",
    "\n",
    "est_6 = GradientBoostingRegressor(random_state=42, subsample=0.6, min_samples_split=100)"
   ]
  },
  {
   "cell_type": "code",
   "execution_count": 472,
   "metadata": {},
   "outputs": [],
   "source": [
    "pipeline_6 = Pipeline(steps=[(\"prep\", prep_6), (\"model\", est_6)])"
   ]
  },
  {
   "cell_type": "code",
   "execution_count": 473,
   "metadata": {},
   "outputs": [
    {
     "data": {
      "text/html": [
       "<style>#sk-container-id-17 {color: black;}#sk-container-id-17 pre{padding: 0;}#sk-container-id-17 div.sk-toggleable {background-color: white;}#sk-container-id-17 label.sk-toggleable__label {cursor: pointer;display: block;width: 100%;margin-bottom: 0;padding: 0.3em;box-sizing: border-box;text-align: center;}#sk-container-id-17 label.sk-toggleable__label-arrow:before {content: \"▸\";float: left;margin-right: 0.25em;color: #696969;}#sk-container-id-17 label.sk-toggleable__label-arrow:hover:before {color: black;}#sk-container-id-17 div.sk-estimator:hover label.sk-toggleable__label-arrow:before {color: black;}#sk-container-id-17 div.sk-toggleable__content {max-height: 0;max-width: 0;overflow: hidden;text-align: left;background-color: #f0f8ff;}#sk-container-id-17 div.sk-toggleable__content pre {margin: 0.2em;color: black;border-radius: 0.25em;background-color: #f0f8ff;}#sk-container-id-17 input.sk-toggleable__control:checked~div.sk-toggleable__content {max-height: 200px;max-width: 100%;overflow: auto;}#sk-container-id-17 input.sk-toggleable__control:checked~label.sk-toggleable__label-arrow:before {content: \"▾\";}#sk-container-id-17 div.sk-estimator input.sk-toggleable__control:checked~label.sk-toggleable__label {background-color: #d4ebff;}#sk-container-id-17 div.sk-label input.sk-toggleable__control:checked~label.sk-toggleable__label {background-color: #d4ebff;}#sk-container-id-17 input.sk-hidden--visually {border: 0;clip: rect(1px 1px 1px 1px);clip: rect(1px, 1px, 1px, 1px);height: 1px;margin: -1px;overflow: hidden;padding: 0;position: absolute;width: 1px;}#sk-container-id-17 div.sk-estimator {font-family: monospace;background-color: #f0f8ff;border: 1px dotted black;border-radius: 0.25em;box-sizing: border-box;margin-bottom: 0.5em;}#sk-container-id-17 div.sk-estimator:hover {background-color: #d4ebff;}#sk-container-id-17 div.sk-parallel-item::after {content: \"\";width: 100%;border-bottom: 1px solid gray;flex-grow: 1;}#sk-container-id-17 div.sk-label:hover label.sk-toggleable__label {background-color: #d4ebff;}#sk-container-id-17 div.sk-serial::before {content: \"\";position: absolute;border-left: 1px solid gray;box-sizing: border-box;top: 0;bottom: 0;left: 50%;z-index: 0;}#sk-container-id-17 div.sk-serial {display: flex;flex-direction: column;align-items: center;background-color: white;padding-right: 0.2em;padding-left: 0.2em;position: relative;}#sk-container-id-17 div.sk-item {position: relative;z-index: 1;}#sk-container-id-17 div.sk-parallel {display: flex;align-items: stretch;justify-content: center;background-color: white;position: relative;}#sk-container-id-17 div.sk-item::before, #sk-container-id-17 div.sk-parallel-item::before {content: \"\";position: absolute;border-left: 1px solid gray;box-sizing: border-box;top: 0;bottom: 0;left: 50%;z-index: -1;}#sk-container-id-17 div.sk-parallel-item {display: flex;flex-direction: column;z-index: 1;position: relative;background-color: white;}#sk-container-id-17 div.sk-parallel-item:first-child::after {align-self: flex-end;width: 50%;}#sk-container-id-17 div.sk-parallel-item:last-child::after {align-self: flex-start;width: 50%;}#sk-container-id-17 div.sk-parallel-item:only-child::after {width: 0;}#sk-container-id-17 div.sk-dashed-wrapped {border: 1px dashed gray;margin: 0 0.4em 0.5em 0.4em;box-sizing: border-box;padding-bottom: 0.4em;background-color: white;}#sk-container-id-17 div.sk-label label {font-family: monospace;font-weight: bold;display: inline-block;line-height: 1.2em;}#sk-container-id-17 div.sk-label-container {text-align: center;}#sk-container-id-17 div.sk-container {/* jupyter's `normalize.less` sets `[hidden] { display: none; }` but bootstrap.min.css set `[hidden] { display: none !important; }` so we also need the `!important` here to be able to override the default hidden behavior on the sphinx rendered scikit-learn.org. See: https://github.com/scikit-learn/scikit-learn/issues/21755 */display: inline-block !important;position: relative;}#sk-container-id-17 div.sk-text-repr-fallback {display: none;}</style><div id=\"sk-container-id-17\" class=\"sk-top-container\"><div class=\"sk-text-repr-fallback\"><pre>Pipeline(steps=[(&#x27;prep&#x27;,\n",
       "                 Pipeline(steps=[(&#x27;prep_a&#x27;,\n",
       "                                  ColumnTransformer(remainder=&#x27;passthrough&#x27;,\n",
       "                                                    transformers=[(&#x27;imp&#x27;,\n",
       "                                                                   IterativeImputer(random_state=42),\n",
       "                                                                   [&#x27;Lotsize&#x27;,\n",
       "                                                                    &#x27;Fbath&#x27;,\n",
       "                                                                    &#x27;Fin_sqft&#x27;,\n",
       "                                                                    &#x27;Fläche_pro_Bad&#x27;,\n",
       "                                                                    &#x27;Immobilien_Alter&#x27;])])),\n",
       "                                 (&#x27;prep_b&#x27;,\n",
       "                                  ColumnTransformer(transformers=[(&#x27;scale&#x27;,\n",
       "                                                                   StandardScaler(),\n",
       "                                                                   [&#x27;imp__Lotsize&#x27;,\n",
       "                                                                    &#x27;imp__Fbath&#x27;,\n",
       "                                                                    &#x27;imp__Fin_sqft&#x27;,\n",
       "                                                                    &#x27;imp__Fläche_pro_Bad&#x27;,\n",
       "                                                                    &#x27;imp__Immobilien_Alter&#x27;]),\n",
       "                                                                  (&#x27;ohe&#x27;,\n",
       "                                                                   OneHotEncoder(handle_unknown=&#x27;ignore&#x27;,\n",
       "                                                                                 sparse_output=False),\n",
       "                                                                   [&#x27;remainder__PropType&#x27;,\n",
       "                                                                    &#x27;remainder__District&#x27;,\n",
       "                                                                    &#x27;remainder__Style&#x27;,\n",
       "                                                                    &#x27;remainder__Year_Built&#x27;,\n",
       "                                                                    &#x27;remainder__Nbhd_updated&#x27;,\n",
       "                                                                    &#x27;remainder__Premium&#x27;])]))])),\n",
       "                (&#x27;model&#x27;,\n",
       "                 GradientBoostingRegressor(min_samples_split=100,\n",
       "                                           random_state=42, subsample=0.6))])</pre><b>In a Jupyter environment, please rerun this cell to show the HTML representation or trust the notebook. <br />On GitHub, the HTML representation is unable to render, please try loading this page with nbviewer.org.</b></div><div class=\"sk-container\" hidden><div class=\"sk-item sk-dashed-wrapped\"><div class=\"sk-label-container\"><div class=\"sk-label sk-toggleable\"><input class=\"sk-toggleable__control sk-hidden--visually\" id=\"sk-estimator-id-199\" type=\"checkbox\" ><label for=\"sk-estimator-id-199\" class=\"sk-toggleable__label sk-toggleable__label-arrow\">Pipeline</label><div class=\"sk-toggleable__content\"><pre>Pipeline(steps=[(&#x27;prep&#x27;,\n",
       "                 Pipeline(steps=[(&#x27;prep_a&#x27;,\n",
       "                                  ColumnTransformer(remainder=&#x27;passthrough&#x27;,\n",
       "                                                    transformers=[(&#x27;imp&#x27;,\n",
       "                                                                   IterativeImputer(random_state=42),\n",
       "                                                                   [&#x27;Lotsize&#x27;,\n",
       "                                                                    &#x27;Fbath&#x27;,\n",
       "                                                                    &#x27;Fin_sqft&#x27;,\n",
       "                                                                    &#x27;Fläche_pro_Bad&#x27;,\n",
       "                                                                    &#x27;Immobilien_Alter&#x27;])])),\n",
       "                                 (&#x27;prep_b&#x27;,\n",
       "                                  ColumnTransformer(transformers=[(&#x27;scale&#x27;,\n",
       "                                                                   StandardScaler(),\n",
       "                                                                   [&#x27;imp__Lotsize&#x27;,\n",
       "                                                                    &#x27;imp__Fbath&#x27;,\n",
       "                                                                    &#x27;imp__Fin_sqft&#x27;,\n",
       "                                                                    &#x27;imp__Fläche_pro_Bad&#x27;,\n",
       "                                                                    &#x27;imp__Immobilien_Alter&#x27;]),\n",
       "                                                                  (&#x27;ohe&#x27;,\n",
       "                                                                   OneHotEncoder(handle_unknown=&#x27;ignore&#x27;,\n",
       "                                                                                 sparse_output=False),\n",
       "                                                                   [&#x27;remainder__PropType&#x27;,\n",
       "                                                                    &#x27;remainder__District&#x27;,\n",
       "                                                                    &#x27;remainder__Style&#x27;,\n",
       "                                                                    &#x27;remainder__Year_Built&#x27;,\n",
       "                                                                    &#x27;remainder__Nbhd_updated&#x27;,\n",
       "                                                                    &#x27;remainder__Premium&#x27;])]))])),\n",
       "                (&#x27;model&#x27;,\n",
       "                 GradientBoostingRegressor(min_samples_split=100,\n",
       "                                           random_state=42, subsample=0.6))])</pre></div></div></div><div class=\"sk-serial\"><div class=\"sk-item\"><div class=\"sk-label-container\"><div class=\"sk-label sk-toggleable\"><input class=\"sk-toggleable__control sk-hidden--visually\" id=\"sk-estimator-id-200\" type=\"checkbox\" ><label for=\"sk-estimator-id-200\" class=\"sk-toggleable__label sk-toggleable__label-arrow\">prep: Pipeline</label><div class=\"sk-toggleable__content\"><pre>Pipeline(steps=[(&#x27;prep_a&#x27;,\n",
       "                 ColumnTransformer(remainder=&#x27;passthrough&#x27;,\n",
       "                                   transformers=[(&#x27;imp&#x27;,\n",
       "                                                  IterativeImputer(random_state=42),\n",
       "                                                  [&#x27;Lotsize&#x27;, &#x27;Fbath&#x27;,\n",
       "                                                   &#x27;Fin_sqft&#x27;, &#x27;Fläche_pro_Bad&#x27;,\n",
       "                                                   &#x27;Immobilien_Alter&#x27;])])),\n",
       "                (&#x27;prep_b&#x27;,\n",
       "                 ColumnTransformer(transformers=[(&#x27;scale&#x27;, StandardScaler(),\n",
       "                                                  [&#x27;imp__Lotsize&#x27;, &#x27;imp__Fbath&#x27;,\n",
       "                                                   &#x27;imp__Fin_sqft&#x27;,\n",
       "                                                   &#x27;imp__Fläche_pro_Bad&#x27;,\n",
       "                                                   &#x27;imp__Immobilien_Alter&#x27;]),\n",
       "                                                 (&#x27;ohe&#x27;,\n",
       "                                                  OneHotEncoder(handle_unknown=&#x27;ignore&#x27;,\n",
       "                                                                sparse_output=False),\n",
       "                                                  [&#x27;remainder__PropType&#x27;,\n",
       "                                                   &#x27;remainder__District&#x27;,\n",
       "                                                   &#x27;remainder__Style&#x27;,\n",
       "                                                   &#x27;remainder__Year_Built&#x27;,\n",
       "                                                   &#x27;remainder__Nbhd_updated&#x27;,\n",
       "                                                   &#x27;remainder__Premium&#x27;])]))])</pre></div></div></div><div class=\"sk-serial\"><div class=\"sk-item sk-dashed-wrapped\"><div class=\"sk-label-container\"><div class=\"sk-label sk-toggleable\"><input class=\"sk-toggleable__control sk-hidden--visually\" id=\"sk-estimator-id-201\" type=\"checkbox\" ><label for=\"sk-estimator-id-201\" class=\"sk-toggleable__label sk-toggleable__label-arrow\">prep_a: ColumnTransformer</label><div class=\"sk-toggleable__content\"><pre>ColumnTransformer(remainder=&#x27;passthrough&#x27;,\n",
       "                  transformers=[(&#x27;imp&#x27;, IterativeImputer(random_state=42),\n",
       "                                 [&#x27;Lotsize&#x27;, &#x27;Fbath&#x27;, &#x27;Fin_sqft&#x27;,\n",
       "                                  &#x27;Fläche_pro_Bad&#x27;, &#x27;Immobilien_Alter&#x27;])])</pre></div></div></div><div class=\"sk-parallel\"><div class=\"sk-parallel-item\"><div class=\"sk-item\"><div class=\"sk-label-container\"><div class=\"sk-label sk-toggleable\"><input class=\"sk-toggleable__control sk-hidden--visually\" id=\"sk-estimator-id-202\" type=\"checkbox\" ><label for=\"sk-estimator-id-202\" class=\"sk-toggleable__label sk-toggleable__label-arrow\">imp</label><div class=\"sk-toggleable__content\"><pre>[&#x27;Lotsize&#x27;, &#x27;Fbath&#x27;, &#x27;Fin_sqft&#x27;, &#x27;Fläche_pro_Bad&#x27;, &#x27;Immobilien_Alter&#x27;]</pre></div></div></div><div class=\"sk-serial\"><div class=\"sk-item\"><div class=\"sk-estimator sk-toggleable\"><input class=\"sk-toggleable__control sk-hidden--visually\" id=\"sk-estimator-id-203\" type=\"checkbox\" ><label for=\"sk-estimator-id-203\" class=\"sk-toggleable__label sk-toggleable__label-arrow\">IterativeImputer</label><div class=\"sk-toggleable__content\"><pre>IterativeImputer(random_state=42)</pre></div></div></div></div></div></div><div class=\"sk-parallel-item\"><div class=\"sk-item\"><div class=\"sk-label-container\"><div class=\"sk-label sk-toggleable\"><input class=\"sk-toggleable__control sk-hidden--visually\" id=\"sk-estimator-id-204\" type=\"checkbox\" ><label for=\"sk-estimator-id-204\" class=\"sk-toggleable__label sk-toggleable__label-arrow\">remainder</label><div class=\"sk-toggleable__content\"><pre></pre></div></div></div><div class=\"sk-serial\"><div class=\"sk-item\"><div class=\"sk-estimator sk-toggleable\"><input class=\"sk-toggleable__control sk-hidden--visually\" id=\"sk-estimator-id-205\" type=\"checkbox\" ><label for=\"sk-estimator-id-205\" class=\"sk-toggleable__label sk-toggleable__label-arrow\">passthrough</label><div class=\"sk-toggleable__content\"><pre>passthrough</pre></div></div></div></div></div></div></div></div><div class=\"sk-item sk-dashed-wrapped\"><div class=\"sk-label-container\"><div class=\"sk-label sk-toggleable\"><input class=\"sk-toggleable__control sk-hidden--visually\" id=\"sk-estimator-id-206\" type=\"checkbox\" ><label for=\"sk-estimator-id-206\" class=\"sk-toggleable__label sk-toggleable__label-arrow\">prep_b: ColumnTransformer</label><div class=\"sk-toggleable__content\"><pre>ColumnTransformer(transformers=[(&#x27;scale&#x27;, StandardScaler(),\n",
       "                                 [&#x27;imp__Lotsize&#x27;, &#x27;imp__Fbath&#x27;, &#x27;imp__Fin_sqft&#x27;,\n",
       "                                  &#x27;imp__Fläche_pro_Bad&#x27;,\n",
       "                                  &#x27;imp__Immobilien_Alter&#x27;]),\n",
       "                                (&#x27;ohe&#x27;,\n",
       "                                 OneHotEncoder(handle_unknown=&#x27;ignore&#x27;,\n",
       "                                               sparse_output=False),\n",
       "                                 [&#x27;remainder__PropType&#x27;, &#x27;remainder__District&#x27;,\n",
       "                                  &#x27;remainder__Style&#x27;, &#x27;remainder__Year_Built&#x27;,\n",
       "                                  &#x27;remainder__Nbhd_updated&#x27;,\n",
       "                                  &#x27;remainder__Premium&#x27;])])</pre></div></div></div><div class=\"sk-parallel\"><div class=\"sk-parallel-item\"><div class=\"sk-item\"><div class=\"sk-label-container\"><div class=\"sk-label sk-toggleable\"><input class=\"sk-toggleable__control sk-hidden--visually\" id=\"sk-estimator-id-207\" type=\"checkbox\" ><label for=\"sk-estimator-id-207\" class=\"sk-toggleable__label sk-toggleable__label-arrow\">scale</label><div class=\"sk-toggleable__content\"><pre>[&#x27;imp__Lotsize&#x27;, &#x27;imp__Fbath&#x27;, &#x27;imp__Fin_sqft&#x27;, &#x27;imp__Fläche_pro_Bad&#x27;, &#x27;imp__Immobilien_Alter&#x27;]</pre></div></div></div><div class=\"sk-serial\"><div class=\"sk-item\"><div class=\"sk-estimator sk-toggleable\"><input class=\"sk-toggleable__control sk-hidden--visually\" id=\"sk-estimator-id-208\" type=\"checkbox\" ><label for=\"sk-estimator-id-208\" class=\"sk-toggleable__label sk-toggleable__label-arrow\">StandardScaler</label><div class=\"sk-toggleable__content\"><pre>StandardScaler()</pre></div></div></div></div></div></div><div class=\"sk-parallel-item\"><div class=\"sk-item\"><div class=\"sk-label-container\"><div class=\"sk-label sk-toggleable\"><input class=\"sk-toggleable__control sk-hidden--visually\" id=\"sk-estimator-id-209\" type=\"checkbox\" ><label for=\"sk-estimator-id-209\" class=\"sk-toggleable__label sk-toggleable__label-arrow\">ohe</label><div class=\"sk-toggleable__content\"><pre>[&#x27;remainder__PropType&#x27;, &#x27;remainder__District&#x27;, &#x27;remainder__Style&#x27;, &#x27;remainder__Year_Built&#x27;, &#x27;remainder__Nbhd_updated&#x27;, &#x27;remainder__Premium&#x27;]</pre></div></div></div><div class=\"sk-serial\"><div class=\"sk-item\"><div class=\"sk-estimator sk-toggleable\"><input class=\"sk-toggleable__control sk-hidden--visually\" id=\"sk-estimator-id-210\" type=\"checkbox\" ><label for=\"sk-estimator-id-210\" class=\"sk-toggleable__label sk-toggleable__label-arrow\">OneHotEncoder</label><div class=\"sk-toggleable__content\"><pre>OneHotEncoder(handle_unknown=&#x27;ignore&#x27;, sparse_output=False)</pre></div></div></div></div></div></div></div></div></div></div><div class=\"sk-item\"><div class=\"sk-estimator sk-toggleable\"><input class=\"sk-toggleable__control sk-hidden--visually\" id=\"sk-estimator-id-211\" type=\"checkbox\" ><label for=\"sk-estimator-id-211\" class=\"sk-toggleable__label sk-toggleable__label-arrow\">GradientBoostingRegressor</label><div class=\"sk-toggleable__content\"><pre>GradientBoostingRegressor(min_samples_split=100, random_state=42, subsample=0.6)</pre></div></div></div></div></div></div></div>"
      ],
      "text/plain": [
       "Pipeline(steps=[('prep',\n",
       "                 Pipeline(steps=[('prep_a',\n",
       "                                  ColumnTransformer(remainder='passthrough',\n",
       "                                                    transformers=[('imp',\n",
       "                                                                   IterativeImputer(random_state=42),\n",
       "                                                                   ['Lotsize',\n",
       "                                                                    'Fbath',\n",
       "                                                                    'Fin_sqft',\n",
       "                                                                    'Fläche_pro_Bad',\n",
       "                                                                    'Immobilien_Alter'])])),\n",
       "                                 ('prep_b',\n",
       "                                  ColumnTransformer(transformers=[('scale',\n",
       "                                                                   StandardScaler(),\n",
       "                                                                   ['imp__Lotsize',\n",
       "                                                                    'imp__Fbath',\n",
       "                                                                    'imp__Fin_sqft',\n",
       "                                                                    'imp__Fläche_pro_Bad',\n",
       "                                                                    'imp__Immobilien_Alter']),\n",
       "                                                                  ('ohe',\n",
       "                                                                   OneHotEncoder(handle_unknown='ignore',\n",
       "                                                                                 sparse_output=False),\n",
       "                                                                   ['remainder__PropType',\n",
       "                                                                    'remainder__District',\n",
       "                                                                    'remainder__Style',\n",
       "                                                                    'remainder__Year_Built',\n",
       "                                                                    'remainder__Nbhd_updated',\n",
       "                                                                    'remainder__Premium'])]))])),\n",
       "                ('model',\n",
       "                 GradientBoostingRegressor(min_samples_split=100,\n",
       "                                           random_state=42, subsample=0.6))])"
      ]
     },
     "execution_count": 473,
     "metadata": {},
     "output_type": "execute_result"
    }
   ],
   "source": [
    "pipeline_6"
   ]
  },
  {
   "cell_type": "code",
   "execution_count": 474,
   "metadata": {},
   "outputs": [],
   "source": [
    "import os\n",
    "\n",
    "import mlflow\n",
    "from dotenv import load_dotenv\n",
    "\n",
    "load_dotenv()\n",
    "\n",
    "mlflow.set_tracking_uri(os.getenv(\"LOCAL_MLFLOW_TRACKING_URI\"))  # \"sqlite:///mlflow.db\"\n",
    "mlflow.set_experiment(\"4F-e2e-part5\")\n",
    "mlflow.sklearn.autolog(log_models=False, log_datasets=False, silent=True)"
   ]
  },
  {
   "cell_type": "code",
   "execution_count": 475,
   "metadata": {},
   "outputs": [
    {
     "name": "stdout",
     "output_type": "stream",
     "text": [
      "CPU times: user 1.41 s, sys: 94.9 ms, total: 1.51 s\n",
      "Wall time: 1.13 s\n"
     ]
    },
    {
     "data": {
      "text/html": [
       "<style>#sk-container-id-18 {color: black;}#sk-container-id-18 pre{padding: 0;}#sk-container-id-18 div.sk-toggleable {background-color: white;}#sk-container-id-18 label.sk-toggleable__label {cursor: pointer;display: block;width: 100%;margin-bottom: 0;padding: 0.3em;box-sizing: border-box;text-align: center;}#sk-container-id-18 label.sk-toggleable__label-arrow:before {content: \"▸\";float: left;margin-right: 0.25em;color: #696969;}#sk-container-id-18 label.sk-toggleable__label-arrow:hover:before {color: black;}#sk-container-id-18 div.sk-estimator:hover label.sk-toggleable__label-arrow:before {color: black;}#sk-container-id-18 div.sk-toggleable__content {max-height: 0;max-width: 0;overflow: hidden;text-align: left;background-color: #f0f8ff;}#sk-container-id-18 div.sk-toggleable__content pre {margin: 0.2em;color: black;border-radius: 0.25em;background-color: #f0f8ff;}#sk-container-id-18 input.sk-toggleable__control:checked~div.sk-toggleable__content {max-height: 200px;max-width: 100%;overflow: auto;}#sk-container-id-18 input.sk-toggleable__control:checked~label.sk-toggleable__label-arrow:before {content: \"▾\";}#sk-container-id-18 div.sk-estimator input.sk-toggleable__control:checked~label.sk-toggleable__label {background-color: #d4ebff;}#sk-container-id-18 div.sk-label input.sk-toggleable__control:checked~label.sk-toggleable__label {background-color: #d4ebff;}#sk-container-id-18 input.sk-hidden--visually {border: 0;clip: rect(1px 1px 1px 1px);clip: rect(1px, 1px, 1px, 1px);height: 1px;margin: -1px;overflow: hidden;padding: 0;position: absolute;width: 1px;}#sk-container-id-18 div.sk-estimator {font-family: monospace;background-color: #f0f8ff;border: 1px dotted black;border-radius: 0.25em;box-sizing: border-box;margin-bottom: 0.5em;}#sk-container-id-18 div.sk-estimator:hover {background-color: #d4ebff;}#sk-container-id-18 div.sk-parallel-item::after {content: \"\";width: 100%;border-bottom: 1px solid gray;flex-grow: 1;}#sk-container-id-18 div.sk-label:hover label.sk-toggleable__label {background-color: #d4ebff;}#sk-container-id-18 div.sk-serial::before {content: \"\";position: absolute;border-left: 1px solid gray;box-sizing: border-box;top: 0;bottom: 0;left: 50%;z-index: 0;}#sk-container-id-18 div.sk-serial {display: flex;flex-direction: column;align-items: center;background-color: white;padding-right: 0.2em;padding-left: 0.2em;position: relative;}#sk-container-id-18 div.sk-item {position: relative;z-index: 1;}#sk-container-id-18 div.sk-parallel {display: flex;align-items: stretch;justify-content: center;background-color: white;position: relative;}#sk-container-id-18 div.sk-item::before, #sk-container-id-18 div.sk-parallel-item::before {content: \"\";position: absolute;border-left: 1px solid gray;box-sizing: border-box;top: 0;bottom: 0;left: 50%;z-index: -1;}#sk-container-id-18 div.sk-parallel-item {display: flex;flex-direction: column;z-index: 1;position: relative;background-color: white;}#sk-container-id-18 div.sk-parallel-item:first-child::after {align-self: flex-end;width: 50%;}#sk-container-id-18 div.sk-parallel-item:last-child::after {align-self: flex-start;width: 50%;}#sk-container-id-18 div.sk-parallel-item:only-child::after {width: 0;}#sk-container-id-18 div.sk-dashed-wrapped {border: 1px dashed gray;margin: 0 0.4em 0.5em 0.4em;box-sizing: border-box;padding-bottom: 0.4em;background-color: white;}#sk-container-id-18 div.sk-label label {font-family: monospace;font-weight: bold;display: inline-block;line-height: 1.2em;}#sk-container-id-18 div.sk-label-container {text-align: center;}#sk-container-id-18 div.sk-container {/* jupyter's `normalize.less` sets `[hidden] { display: none; }` but bootstrap.min.css set `[hidden] { display: none !important; }` so we also need the `!important` here to be able to override the default hidden behavior on the sphinx rendered scikit-learn.org. See: https://github.com/scikit-learn/scikit-learn/issues/21755 */display: inline-block !important;position: relative;}#sk-container-id-18 div.sk-text-repr-fallback {display: none;}</style><div id=\"sk-container-id-18\" class=\"sk-top-container\"><div class=\"sk-text-repr-fallback\"><pre>Pipeline(steps=[(&#x27;prep&#x27;,\n",
       "                 Pipeline(steps=[(&#x27;prep_a&#x27;,\n",
       "                                  ColumnTransformer(remainder=&#x27;passthrough&#x27;,\n",
       "                                                    transformers=[(&#x27;imp&#x27;,\n",
       "                                                                   IterativeImputer(random_state=42),\n",
       "                                                                   [&#x27;Lotsize&#x27;,\n",
       "                                                                    &#x27;Fbath&#x27;,\n",
       "                                                                    &#x27;Fin_sqft&#x27;,\n",
       "                                                                    &#x27;Fläche_pro_Bad&#x27;,\n",
       "                                                                    &#x27;Immobilien_Alter&#x27;])])),\n",
       "                                 (&#x27;prep_b&#x27;,\n",
       "                                  ColumnTransformer(transformers=[(&#x27;scale&#x27;,\n",
       "                                                                   StandardScaler(),\n",
       "                                                                   [&#x27;imp__Lotsize&#x27;,\n",
       "                                                                    &#x27;imp__Fbath&#x27;,\n",
       "                                                                    &#x27;imp__Fin_sqft&#x27;,\n",
       "                                                                    &#x27;imp__Fläche_pro_Bad&#x27;,\n",
       "                                                                    &#x27;imp__Immobilien_Alter&#x27;]),\n",
       "                                                                  (&#x27;ohe&#x27;,\n",
       "                                                                   OneHotEncoder(handle_unknown=&#x27;ignore&#x27;,\n",
       "                                                                                 sparse_output=False),\n",
       "                                                                   [&#x27;remainder__PropType&#x27;,\n",
       "                                                                    &#x27;remainder__District&#x27;,\n",
       "                                                                    &#x27;remainder__Style&#x27;,\n",
       "                                                                    &#x27;remainder__Year_Built&#x27;,\n",
       "                                                                    &#x27;remainder__Nbhd_updated&#x27;,\n",
       "                                                                    &#x27;remainder__Premium&#x27;])]))])),\n",
       "                (&#x27;model&#x27;,\n",
       "                 GradientBoostingRegressor(min_samples_split=100,\n",
       "                                           random_state=42, subsample=0.6))])</pre><b>In a Jupyter environment, please rerun this cell to show the HTML representation or trust the notebook. <br />On GitHub, the HTML representation is unable to render, please try loading this page with nbviewer.org.</b></div><div class=\"sk-container\" hidden><div class=\"sk-item sk-dashed-wrapped\"><div class=\"sk-label-container\"><div class=\"sk-label sk-toggleable\"><input class=\"sk-toggleable__control sk-hidden--visually\" id=\"sk-estimator-id-212\" type=\"checkbox\" ><label for=\"sk-estimator-id-212\" class=\"sk-toggleable__label sk-toggleable__label-arrow\">Pipeline</label><div class=\"sk-toggleable__content\"><pre>Pipeline(steps=[(&#x27;prep&#x27;,\n",
       "                 Pipeline(steps=[(&#x27;prep_a&#x27;,\n",
       "                                  ColumnTransformer(remainder=&#x27;passthrough&#x27;,\n",
       "                                                    transformers=[(&#x27;imp&#x27;,\n",
       "                                                                   IterativeImputer(random_state=42),\n",
       "                                                                   [&#x27;Lotsize&#x27;,\n",
       "                                                                    &#x27;Fbath&#x27;,\n",
       "                                                                    &#x27;Fin_sqft&#x27;,\n",
       "                                                                    &#x27;Fläche_pro_Bad&#x27;,\n",
       "                                                                    &#x27;Immobilien_Alter&#x27;])])),\n",
       "                                 (&#x27;prep_b&#x27;,\n",
       "                                  ColumnTransformer(transformers=[(&#x27;scale&#x27;,\n",
       "                                                                   StandardScaler(),\n",
       "                                                                   [&#x27;imp__Lotsize&#x27;,\n",
       "                                                                    &#x27;imp__Fbath&#x27;,\n",
       "                                                                    &#x27;imp__Fin_sqft&#x27;,\n",
       "                                                                    &#x27;imp__Fläche_pro_Bad&#x27;,\n",
       "                                                                    &#x27;imp__Immobilien_Alter&#x27;]),\n",
       "                                                                  (&#x27;ohe&#x27;,\n",
       "                                                                   OneHotEncoder(handle_unknown=&#x27;ignore&#x27;,\n",
       "                                                                                 sparse_output=False),\n",
       "                                                                   [&#x27;remainder__PropType&#x27;,\n",
       "                                                                    &#x27;remainder__District&#x27;,\n",
       "                                                                    &#x27;remainder__Style&#x27;,\n",
       "                                                                    &#x27;remainder__Year_Built&#x27;,\n",
       "                                                                    &#x27;remainder__Nbhd_updated&#x27;,\n",
       "                                                                    &#x27;remainder__Premium&#x27;])]))])),\n",
       "                (&#x27;model&#x27;,\n",
       "                 GradientBoostingRegressor(min_samples_split=100,\n",
       "                                           random_state=42, subsample=0.6))])</pre></div></div></div><div class=\"sk-serial\"><div class=\"sk-item\"><div class=\"sk-label-container\"><div class=\"sk-label sk-toggleable\"><input class=\"sk-toggleable__control sk-hidden--visually\" id=\"sk-estimator-id-213\" type=\"checkbox\" ><label for=\"sk-estimator-id-213\" class=\"sk-toggleable__label sk-toggleable__label-arrow\">prep: Pipeline</label><div class=\"sk-toggleable__content\"><pre>Pipeline(steps=[(&#x27;prep_a&#x27;,\n",
       "                 ColumnTransformer(remainder=&#x27;passthrough&#x27;,\n",
       "                                   transformers=[(&#x27;imp&#x27;,\n",
       "                                                  IterativeImputer(random_state=42),\n",
       "                                                  [&#x27;Lotsize&#x27;, &#x27;Fbath&#x27;,\n",
       "                                                   &#x27;Fin_sqft&#x27;, &#x27;Fläche_pro_Bad&#x27;,\n",
       "                                                   &#x27;Immobilien_Alter&#x27;])])),\n",
       "                (&#x27;prep_b&#x27;,\n",
       "                 ColumnTransformer(transformers=[(&#x27;scale&#x27;, StandardScaler(),\n",
       "                                                  [&#x27;imp__Lotsize&#x27;, &#x27;imp__Fbath&#x27;,\n",
       "                                                   &#x27;imp__Fin_sqft&#x27;,\n",
       "                                                   &#x27;imp__Fläche_pro_Bad&#x27;,\n",
       "                                                   &#x27;imp__Immobilien_Alter&#x27;]),\n",
       "                                                 (&#x27;ohe&#x27;,\n",
       "                                                  OneHotEncoder(handle_unknown=&#x27;ignore&#x27;,\n",
       "                                                                sparse_output=False),\n",
       "                                                  [&#x27;remainder__PropType&#x27;,\n",
       "                                                   &#x27;remainder__District&#x27;,\n",
       "                                                   &#x27;remainder__Style&#x27;,\n",
       "                                                   &#x27;remainder__Year_Built&#x27;,\n",
       "                                                   &#x27;remainder__Nbhd_updated&#x27;,\n",
       "                                                   &#x27;remainder__Premium&#x27;])]))])</pre></div></div></div><div class=\"sk-serial\"><div class=\"sk-item sk-dashed-wrapped\"><div class=\"sk-label-container\"><div class=\"sk-label sk-toggleable\"><input class=\"sk-toggleable__control sk-hidden--visually\" id=\"sk-estimator-id-214\" type=\"checkbox\" ><label for=\"sk-estimator-id-214\" class=\"sk-toggleable__label sk-toggleable__label-arrow\">prep_a: ColumnTransformer</label><div class=\"sk-toggleable__content\"><pre>ColumnTransformer(remainder=&#x27;passthrough&#x27;,\n",
       "                  transformers=[(&#x27;imp&#x27;, IterativeImputer(random_state=42),\n",
       "                                 [&#x27;Lotsize&#x27;, &#x27;Fbath&#x27;, &#x27;Fin_sqft&#x27;,\n",
       "                                  &#x27;Fläche_pro_Bad&#x27;, &#x27;Immobilien_Alter&#x27;])])</pre></div></div></div><div class=\"sk-parallel\"><div class=\"sk-parallel-item\"><div class=\"sk-item\"><div class=\"sk-label-container\"><div class=\"sk-label sk-toggleable\"><input class=\"sk-toggleable__control sk-hidden--visually\" id=\"sk-estimator-id-215\" type=\"checkbox\" ><label for=\"sk-estimator-id-215\" class=\"sk-toggleable__label sk-toggleable__label-arrow\">imp</label><div class=\"sk-toggleable__content\"><pre>[&#x27;Lotsize&#x27;, &#x27;Fbath&#x27;, &#x27;Fin_sqft&#x27;, &#x27;Fläche_pro_Bad&#x27;, &#x27;Immobilien_Alter&#x27;]</pre></div></div></div><div class=\"sk-serial\"><div class=\"sk-item\"><div class=\"sk-estimator sk-toggleable\"><input class=\"sk-toggleable__control sk-hidden--visually\" id=\"sk-estimator-id-216\" type=\"checkbox\" ><label for=\"sk-estimator-id-216\" class=\"sk-toggleable__label sk-toggleable__label-arrow\">IterativeImputer</label><div class=\"sk-toggleable__content\"><pre>IterativeImputer(random_state=42)</pre></div></div></div></div></div></div><div class=\"sk-parallel-item\"><div class=\"sk-item\"><div class=\"sk-label-container\"><div class=\"sk-label sk-toggleable\"><input class=\"sk-toggleable__control sk-hidden--visually\" id=\"sk-estimator-id-217\" type=\"checkbox\" ><label for=\"sk-estimator-id-217\" class=\"sk-toggleable__label sk-toggleable__label-arrow\">remainder</label><div class=\"sk-toggleable__content\"><pre>[&#x27;PropType&#x27;, &#x27;District&#x27;, &#x27;Style&#x27;, &#x27;Year_Built&#x27;, &#x27;Nbhd_updated&#x27;, &#x27;Premium&#x27;]</pre></div></div></div><div class=\"sk-serial\"><div class=\"sk-item\"><div class=\"sk-estimator sk-toggleable\"><input class=\"sk-toggleable__control sk-hidden--visually\" id=\"sk-estimator-id-218\" type=\"checkbox\" ><label for=\"sk-estimator-id-218\" class=\"sk-toggleable__label sk-toggleable__label-arrow\">passthrough</label><div class=\"sk-toggleable__content\"><pre>passthrough</pre></div></div></div></div></div></div></div></div><div class=\"sk-item sk-dashed-wrapped\"><div class=\"sk-label-container\"><div class=\"sk-label sk-toggleable\"><input class=\"sk-toggleable__control sk-hidden--visually\" id=\"sk-estimator-id-219\" type=\"checkbox\" ><label for=\"sk-estimator-id-219\" class=\"sk-toggleable__label sk-toggleable__label-arrow\">prep_b: ColumnTransformer</label><div class=\"sk-toggleable__content\"><pre>ColumnTransformer(transformers=[(&#x27;scale&#x27;, StandardScaler(),\n",
       "                                 [&#x27;imp__Lotsize&#x27;, &#x27;imp__Fbath&#x27;, &#x27;imp__Fin_sqft&#x27;,\n",
       "                                  &#x27;imp__Fläche_pro_Bad&#x27;,\n",
       "                                  &#x27;imp__Immobilien_Alter&#x27;]),\n",
       "                                (&#x27;ohe&#x27;,\n",
       "                                 OneHotEncoder(handle_unknown=&#x27;ignore&#x27;,\n",
       "                                               sparse_output=False),\n",
       "                                 [&#x27;remainder__PropType&#x27;, &#x27;remainder__District&#x27;,\n",
       "                                  &#x27;remainder__Style&#x27;, &#x27;remainder__Year_Built&#x27;,\n",
       "                                  &#x27;remainder__Nbhd_updated&#x27;,\n",
       "                                  &#x27;remainder__Premium&#x27;])])</pre></div></div></div><div class=\"sk-parallel\"><div class=\"sk-parallel-item\"><div class=\"sk-item\"><div class=\"sk-label-container\"><div class=\"sk-label sk-toggleable\"><input class=\"sk-toggleable__control sk-hidden--visually\" id=\"sk-estimator-id-220\" type=\"checkbox\" ><label for=\"sk-estimator-id-220\" class=\"sk-toggleable__label sk-toggleable__label-arrow\">scale</label><div class=\"sk-toggleable__content\"><pre>[&#x27;imp__Lotsize&#x27;, &#x27;imp__Fbath&#x27;, &#x27;imp__Fin_sqft&#x27;, &#x27;imp__Fläche_pro_Bad&#x27;, &#x27;imp__Immobilien_Alter&#x27;]</pre></div></div></div><div class=\"sk-serial\"><div class=\"sk-item\"><div class=\"sk-estimator sk-toggleable\"><input class=\"sk-toggleable__control sk-hidden--visually\" id=\"sk-estimator-id-221\" type=\"checkbox\" ><label for=\"sk-estimator-id-221\" class=\"sk-toggleable__label sk-toggleable__label-arrow\">StandardScaler</label><div class=\"sk-toggleable__content\"><pre>StandardScaler()</pre></div></div></div></div></div></div><div class=\"sk-parallel-item\"><div class=\"sk-item\"><div class=\"sk-label-container\"><div class=\"sk-label sk-toggleable\"><input class=\"sk-toggleable__control sk-hidden--visually\" id=\"sk-estimator-id-222\" type=\"checkbox\" ><label for=\"sk-estimator-id-222\" class=\"sk-toggleable__label sk-toggleable__label-arrow\">ohe</label><div class=\"sk-toggleable__content\"><pre>[&#x27;remainder__PropType&#x27;, &#x27;remainder__District&#x27;, &#x27;remainder__Style&#x27;, &#x27;remainder__Year_Built&#x27;, &#x27;remainder__Nbhd_updated&#x27;, &#x27;remainder__Premium&#x27;]</pre></div></div></div><div class=\"sk-serial\"><div class=\"sk-item\"><div class=\"sk-estimator sk-toggleable\"><input class=\"sk-toggleable__control sk-hidden--visually\" id=\"sk-estimator-id-223\" type=\"checkbox\" ><label for=\"sk-estimator-id-223\" class=\"sk-toggleable__label sk-toggleable__label-arrow\">OneHotEncoder</label><div class=\"sk-toggleable__content\"><pre>OneHotEncoder(handle_unknown=&#x27;ignore&#x27;, sparse_output=False)</pre></div></div></div></div></div></div></div></div></div></div><div class=\"sk-item\"><div class=\"sk-estimator sk-toggleable\"><input class=\"sk-toggleable__control sk-hidden--visually\" id=\"sk-estimator-id-224\" type=\"checkbox\" ><label for=\"sk-estimator-id-224\" class=\"sk-toggleable__label sk-toggleable__label-arrow\">GradientBoostingRegressor</label><div class=\"sk-toggleable__content\"><pre>GradientBoostingRegressor(min_samples_split=100, random_state=42, subsample=0.6)</pre></div></div></div></div></div></div></div>"
      ],
      "text/plain": [
       "Pipeline(steps=[('prep',\n",
       "                 Pipeline(steps=[('prep_a',\n",
       "                                  ColumnTransformer(remainder='passthrough',\n",
       "                                                    transformers=[('imp',\n",
       "                                                                   IterativeImputer(random_state=42),\n",
       "                                                                   ['Lotsize',\n",
       "                                                                    'Fbath',\n",
       "                                                                    'Fin_sqft',\n",
       "                                                                    'Fläche_pro_Bad',\n",
       "                                                                    'Immobilien_Alter'])])),\n",
       "                                 ('prep_b',\n",
       "                                  ColumnTransformer(transformers=[('scale',\n",
       "                                                                   StandardScaler(),\n",
       "                                                                   ['imp__Lotsize',\n",
       "                                                                    'imp__Fbath',\n",
       "                                                                    'imp__Fin_sqft',\n",
       "                                                                    'imp__Fläche_pro_Bad',\n",
       "                                                                    'imp__Immobilien_Alter']),\n",
       "                                                                  ('ohe',\n",
       "                                                                   OneHotEncoder(handle_unknown='ignore',\n",
       "                                                                                 sparse_output=False),\n",
       "                                                                   ['remainder__PropType',\n",
       "                                                                    'remainder__District',\n",
       "                                                                    'remainder__Style',\n",
       "                                                                    'remainder__Year_Built',\n",
       "                                                                    'remainder__Nbhd_updated',\n",
       "                                                                    'remainder__Premium'])]))])),\n",
       "                ('model',\n",
       "                 GradientBoostingRegressor(min_samples_split=100,\n",
       "                                           random_state=42, subsample=0.6))])"
      ]
     },
     "execution_count": 475,
     "metadata": {},
     "output_type": "execute_result"
    }
   ],
   "source": [
    "%%time\n",
    "pipeline_6.fit(train_data[cols_set_6], train_data[y])"
   ]
  },
  {
   "cell_type": "markdown",
   "metadata": {},
   "source": [
    "## Performance\n",
    "### R-squared (Bestimmtheitsmaß)"
   ]
  },
  {
   "cell_type": "code",
   "execution_count": 476,
   "metadata": {},
   "outputs": [
    {
     "name": "stdout",
     "output_type": "stream",
     "text": [
      "CPU times: user 65.7 ms, sys: 51.4 ms, total: 117 ms\n",
      "Wall time: 2.79 s\n"
     ]
    },
    {
     "data": {
      "text/plain": [
       "array([0.6710225 , 0.64118394, 0.64146363])"
      ]
     },
     "execution_count": 476,
     "metadata": {},
     "output_type": "execute_result"
    }
   ],
   "source": [
    "%%time\n",
    "from sklearn.model_selection import cross_val_score\n",
    "\n",
    "transformed_6 = pipeline_6[:-1].transform(train_data[cols_set_6])\n",
    "\n",
    "cross_val_score(estimator=pipeline_6[-1], X=transformed_6, y=train_data[y], cv=3, n_jobs=3)"
   ]
  },
  {
   "cell_type": "code",
   "execution_count": 477,
   "metadata": {},
   "outputs": [
    {
     "data": {
      "text/plain": [
       "0.592817024434418"
      ]
     },
     "execution_count": 477,
     "metadata": {},
     "output_type": "execute_result"
    }
   ],
   "source": [
    "from sklearn.metrics import r2_score\n",
    "\n",
    "r2_score(y_true=test_data[y], y_pred=pipeline_6.predict(test_data[X]))"
   ]
  },
  {
   "cell_type": "markdown",
   "metadata": {},
   "source": [
    "R-squared ist die Default Metrik für den Estimator."
   ]
  },
  {
   "cell_type": "code",
   "execution_count": 478,
   "metadata": {},
   "outputs": [
    {
     "data": {
      "text/plain": [
       "0.592817024434418"
      ]
     },
     "execution_count": 478,
     "metadata": {},
     "output_type": "execute_result"
    }
   ],
   "source": [
    "pipeline_6.score(X=test_data[X], y=test_data[y])"
   ]
  },
  {
   "cell_type": "markdown",
   "metadata": {},
   "source": [
    "### Mean Absolute Error"
   ]
  },
  {
   "cell_type": "code",
   "execution_count": 479,
   "metadata": {},
   "outputs": [
    {
     "data": {
      "text/plain": [
       "19766.14692271468"
      ]
     },
     "execution_count": 479,
     "metadata": {},
     "output_type": "execute_result"
    }
   ],
   "source": [
    "from sklearn.metrics import mean_absolute_error\n",
    "\n",
    "mean_absolute_error(y_true=test_data[y], y_pred=pipeline_6.predict(test_data[X]))"
   ]
  },
  {
   "cell_type": "markdown",
   "metadata": {},
   "source": [
    "### Root Mean Squared Error\n",
    "\n",
    "Scikit-learn implementiert nur den MSE, davon nehmen wir die Wurzel."
   ]
  },
  {
   "cell_type": "code",
   "execution_count": 480,
   "metadata": {},
   "outputs": [
    {
     "data": {
      "text/plain": [
       "31332.654570464543"
      ]
     },
     "execution_count": 480,
     "metadata": {},
     "output_type": "execute_result"
    }
   ],
   "source": [
    "import numpy as np\n",
    "from sklearn.metrics import mean_squared_error\n",
    "\n",
    "np.sqrt(mean_squared_error(y_true=test_data[y], y_pred=pipeline_6.predict(test_data[X])))"
   ]
  },
  {
   "cell_type": "markdown",
   "metadata": {},
   "source": [
    "## Explainable AI mit SHAP-Values"
   ]
  },
  {
   "cell_type": "code",
   "execution_count": 481,
   "metadata": {},
   "outputs": [
    {
     "data": {
      "image/png": "[encoded data removed]",
      "text/plain": [
       "<Figure size 800x950 with 2 Axes>"
      ]
     },
     "metadata": {},
     "output_type": "display_data"
    }
   ],
   "source": [
    "import shap\n",
    "\n",
    "transformed_test_6 = pipeline_6[:-1].transform(test_data[cols_set_6])\n",
    "\n",
    "explainer_6 = shap.TreeExplainer(pipeline_6.named_steps[\"model\"])\n",
    "shap_values_test_6 = explainer_6.shap_values(transformed_test_6)\n",
    "shap.summary_plot(\n",
    "    shap_values=shap_values_test_6,\n",
    "    features=transformed_test_6,\n",
    "    feature_names=pipeline_6[:-1].get_feature_names_out(),\n",
    ")"
   ]
  },
  {
   "cell_type": "markdown",
   "metadata": {},
   "source": [
    "## Model Comparison"
   ]
  },
  {
   "cell_type": "code",
   "execution_count": 482,
   "metadata": {},
   "outputs": [],
   "source": [
    "from sklearn.linear_model import LinearRegression, ElasticNet, Lars, BayesianRidge\n",
    "from sklearn.neural_network import MLPRegressor\n",
    "from sklearn.tree import DecisionTreeRegressor\n",
    "from sklearn.ensemble import RandomForestRegressor"
   ]
  },
  {
   "cell_type": "code",
   "execution_count": 484,
   "metadata": {},
   "outputs": [],
   "source": [
    "models = [\n",
    "    (\"LinearRegression\", LinearRegression()),\n",
    "    (\"DecisionTree\", DecisionTreeRegressor()),\n",
    "    (\"RandomForest\", RandomForestRegressor(n_estimators=100)),\n",
    "    (\"Lars\", Lars(random_state=42)),\n",
    "    (\"ElasticNet\", ElasticNet(random_state=42)),\n",
    "    (\"BayesianRidge\", BayesianRidge()),\n",
    "    (\"MLPregressor\", MLPRegressor(hidden_layer_sizes=(30, 30), random_state=42)),\n",
    "]"
   ]
  },
  {
   "cell_type": "code",
   "execution_count": 485,
   "metadata": {},
   "outputs": [
    {
     "name": "stdout",
     "output_type": "stream",
     "text": [
      "\n",
      "EVALUATING LinearRegression\n",
      "Cross validation [-1.99663872e+19 -2.00827703e+17 -1.55673532e+20]\n",
      "Performance on test data\n",
      "R2: -6.000967372362879e+16\n",
      "MAE: 396677139618.69604\n",
      "\n",
      "EVALUATING DecisionTree\n",
      "Cross validation [0.36465499 0.31889393 0.32386   ]\n",
      "Performance on test data\n",
      "R2: 0.3908463714208005\n",
      "MAE: 23766.676143867007\n",
      "\n",
      "EVALUATING RandomForest\n",
      "Cross validation [0.66947512 0.63264847 0.63700767]\n",
      "Performance on test data\n",
      "R2: 0.5761045740978616\n",
      "MAE: 18841.777291549246\n"
     ]
    },
    {
     "name": "stderr",
     "output_type": "stream",
     "text": [
      "/Applications/anaconda3/envs/ads-ml-full/lib/python3.11/site-packages/sklearn/linear_model/_least_angle.py:639: ConvergenceWarning: Regressors in active set degenerate. Dropping a regressor, after 134 iterations, i.e. alpha=1.983e+02, with an active set of 110 regressors, and the smallest cholesky pivot element being 9.483e-08. Reduce max_iter or increase eps parameters.\n",
      "  warnings.warn(\n",
      "/Applications/anaconda3/envs/ads-ml-full/lib/python3.11/site-packages/sklearn/linear_model/_least_angle.py:639: ConvergenceWarning: Regressors in active set degenerate. Dropping a regressor, after 139 iterations, i.e. alpha=3.709e+03, with an active set of 111 regressors, and the smallest cholesky pivot element being 9.541e-08. Reduce max_iter or increase eps parameters.\n",
      "  warnings.warn(\n",
      "/Applications/anaconda3/envs/ads-ml-full/lib/python3.11/site-packages/sklearn/linear_model/_least_angle.py:639: ConvergenceWarning: Regressors in active set degenerate. Dropping a regressor, after 139 iterations, i.e. alpha=1.166e+03, with an active set of 111 regressors, and the smallest cholesky pivot element being 9.541e-08. Reduce max_iter or increase eps parameters.\n",
      "  warnings.warn(\n",
      "/Applications/anaconda3/envs/ads-ml-full/lib/python3.11/site-packages/sklearn/linear_model/_least_angle.py:639: ConvergenceWarning: Regressors in active set degenerate. Dropping a regressor, after 153 iterations, i.e. alpha=1.019e+05, with an active set of 119 regressors, and the smallest cholesky pivot element being 2.220e-16. Reduce max_iter or increase eps parameters.\n",
      "  warnings.warn(\n",
      "/Applications/anaconda3/envs/ads-ml-full/lib/python3.11/site-packages/sklearn/linear_model/_least_angle.py:639: ConvergenceWarning: Regressors in active set degenerate. Dropping a regressor, after 141 iterations, i.e. alpha=6.277e+02, with an active set of 113 regressors, and the smallest cholesky pivot element being 9.483e-08. Reduce max_iter or increase eps parameters.\n",
      "  warnings.warn(\n",
      "/Applications/anaconda3/envs/ads-ml-full/lib/python3.11/site-packages/sklearn/linear_model/_least_angle.py:639: ConvergenceWarning: Regressors in active set degenerate. Dropping a regressor, after 142 iterations, i.e. alpha=4.695e+02, with an active set of 114 regressors, and the smallest cholesky pivot element being 9.483e-08. Reduce max_iter or increase eps parameters.\n",
      "  warnings.warn(\n",
      "/Applications/anaconda3/envs/ads-ml-full/lib/python3.11/site-packages/sklearn/linear_model/_least_angle.py:639: ConvergenceWarning: Regressors in active set degenerate. Dropping a regressor, after 158 iterations, i.e. alpha=2.150e+04, with an active set of 123 regressors, and the smallest cholesky pivot element being 2.220e-16. Reduce max_iter or increase eps parameters.\n",
      "  warnings.warn(\n",
      "/Applications/anaconda3/envs/ads-ml-full/lib/python3.11/site-packages/sklearn/linear_model/_least_angle.py:639: ConvergenceWarning: Regressors in active set degenerate. Dropping a regressor, after 147 iterations, i.e. alpha=3.903e+02, with an active set of 118 regressors, and the smallest cholesky pivot element being 9.599e-08. Reduce max_iter or increase eps parameters.\n",
      "  warnings.warn(\n",
      "/Applications/anaconda3/envs/ads-ml-full/lib/python3.11/site-packages/sklearn/linear_model/_least_angle.py:639: ConvergenceWarning: Regressors in active set degenerate. Dropping a regressor, after 139 iterations, i.e. alpha=4.039e+03, with an active set of 114 regressors, and the smallest cholesky pivot element being 2.220e-16. Reduce max_iter or increase eps parameters.\n",
      "  warnings.warn(\n"
     ]
    },
    {
     "name": "stdout",
     "output_type": "stream",
     "text": [
      "\n",
      "EVALUATING Lars\n",
      "Cross validation [-1.50993299e+31 -1.25614007e+29 -4.07366739e+31]\n",
      "Performance on test data\n",
      "R2: -1.1808299378147214e+34\n",
      "MAE: 1.759625292631783e+20\n",
      "\n",
      "EVALUATING ElasticNet\n",
      "Cross validation [0.45600161 0.44896929 0.44222979]\n",
      "Performance on test data\n",
      "R2: 0.38639609004012365\n",
      "MAE: 24065.139420673495\n",
      "\n",
      "EVALUATING BayesianRidge\n",
      "Cross validation [0.63870332 0.63851045 0.64020854]\n",
      "Performance on test data\n",
      "R2: 0.5331124312259368\n",
      "MAE: 20509.263352217302\n"
     ]
    },
    {
     "name": "stderr",
     "output_type": "stream",
     "text": [
      "Stochastic Optimizer: Maximum iterations (200) reached and the optimization hasn't converged yet.\n"
     ]
    },
    {
     "name": "stdout",
     "output_type": "stream",
     "text": [
      "\n",
      "EVALUATING MLPregressor\n",
      "Cross validation [0.57881696 0.56959114 0.55739632]\n",
      "Performance on test data\n",
      "R2: 0.5103353317225918\n",
      "MAE: 20421.25185251333\n",
      "CPU times: user 25.4 s, sys: 3.73 s, total: 29.1 s\n",
      "Wall time: 20.7 s\n"
     ]
    },
    {
     "name": "stderr",
     "output_type": "stream",
     "text": [
      "/Applications/anaconda3/envs/ads-ml-full/lib/python3.11/site-packages/sklearn/neural_network/_multilayer_perceptron.py:691: ConvergenceWarning: Stochastic Optimizer: Maximum iterations (200) reached and the optimization hasn't converged yet.\n",
      "  warnings.warn(\n",
      "/Applications/anaconda3/envs/ads-ml-full/lib/python3.11/site-packages/sklearn/neural_network/_multilayer_perceptron.py:691: ConvergenceWarning: Stochastic Optimizer: Maximum iterations (200) reached and the optimization hasn't converged yet.\n",
      "  warnings.warn(\n",
      "/Applications/anaconda3/envs/ads-ml-full/lib/python3.11/site-packages/sklearn/neural_network/_multilayer_perceptron.py:691: ConvergenceWarning: Stochastic Optimizer: Maximum iterations (200) reached and the optimization hasn't converged yet.\n",
      "  warnings.warn(\n"
     ]
    }
   ],
   "source": [
    "%%time\n",
    "from sklearn.model_selection import cross_val_score\n",
    "\n",
    "for model in models:\n",
    "    pipeline = Pipeline(steps=[(\"prep\", prep_6), (model[0], model[1])])\n",
    "    pipeline.fit(X=train_data[cols_set_6], y=train_data[y])\n",
    "    cv = cross_val_score(\n",
    "        estimator=pipeline[-1],\n",
    "        X=pipeline[:-1].transform(train_data[cols_set_6]),\n",
    "        y=train_data[y],\n",
    "        cv=3,\n",
    "        n_jobs=3,\n",
    "    )\n",
    "    print(\"\\nEVALUATING\", model[0])\n",
    "    print(\"Cross validation\", cv)\n",
    "    print(\"Performance on test data\")\n",
    "    print(\"R2:\", pipeline.score(X=test_data[cols_set_6], y=test_data[y]))\n",
    "    print(\"MAE:\", mean_absolute_error(y_true=test_data[y], y_pred=pipeline.predict(test_data[X])))"
   ]
  },
  {
   "cell_type": "markdown",
   "metadata": {},
   "source": [
    "## Interpretation "
   ]
  },
  {
   "cell_type": "markdown",
   "metadata": {},
   "source": [
    "Der Random Forest Regressor ist in der finalen Versuchsanordnung, bei der alle final im Datensatz \"subset_wohnraum_final_clear\" ausgewählten Features unter Berücksichitgung von ChatGPT erstellten zusätzlichen Features als Colum-Set 6 gleichermaßen beim Modelltraining berücksichtigt wurden, das Modell mit der besten Performance bei der Vorhersage von Preisen der Immobilien in Milwaukee. Allerdings, jedoch zeigt der Gradient Boosting Regressor - wie auch in den meisten vorangegangenen iterativen Versuchen mit unterschiedlichen anderen Feature-Sests – eine ähnlich starke Leistung, insbesondere in Bezug auf die R2-Werte auf den Testdaten, was ihn zu einer hervorragenden Alternative macht. Die BayesianRidge- und MLPRegressor-Modelle folgen dahinter. Die Modelle ElasticNet und Decision Tree Regressor zeigen moderate Leistungen, während Linear Regression und Lars für diese spezifische Aufgabe als ungeeignet erscheinen.\n"
   ]
  },
  {
   "cell_type": "markdown",
   "metadata": {},
   "source": [
    "## Hyperparametertuning mit Grid Search "
   ]
  },
  {
   "cell_type": "code",
   "execution_count": 486,
   "metadata": {},
   "outputs": [],
   "source": [
    "# # smaller parameter grid\n",
    "# parameters = {\n",
    "#     \"model__learning_rate\": [0.01, 0.05, 0.1],\n",
    "#     \"model__subsample\": [0.8, 1.0],\n",
    "# }\n",
    "\n",
    "parameters = {\n",
    "    \"model__n_estimators\": [100, 500],\n",
    "    \"model__learning_rate\": [0.05, 0.1],\n",
    "    \"model__subsample\": [0.7, 0.9],\n",
    "    \"model__max_depth\": [5, 7],\n",
    "}"
   ]
  },
  {
   "cell_type": "code",
   "execution_count": 487,
   "metadata": {},
   "outputs": [
    {
     "data": {
      "text/plain": [
       "[{'model__learning_rate': 0.05,\n",
       "  'model__max_depth': 5,\n",
       "  'model__n_estimators': 100,\n",
       "  'model__subsample': 0.7},\n",
       " {'model__learning_rate': 0.05,\n",
       "  'model__max_depth': 5,\n",
       "  'model__n_estimators': 100,\n",
       "  'model__subsample': 0.9},\n",
       " {'model__learning_rate': 0.05,\n",
       "  'model__max_depth': 5,\n",
       "  'model__n_estimators': 500,\n",
       "  'model__subsample': 0.7},\n",
       " {'model__learning_rate': 0.05,\n",
       "  'model__max_depth': 5,\n",
       "  'model__n_estimators': 500,\n",
       "  'model__subsample': 0.9},\n",
       " {'model__learning_rate': 0.05,\n",
       "  'model__max_depth': 7,\n",
       "  'model__n_estimators': 100,\n",
       "  'model__subsample': 0.7},\n",
       " {'model__learning_rate': 0.05,\n",
       "  'model__max_depth': 7,\n",
       "  'model__n_estimators': 100,\n",
       "  'model__subsample': 0.9},\n",
       " {'model__learning_rate': 0.05,\n",
       "  'model__max_depth': 7,\n",
       "  'model__n_estimators': 500,\n",
       "  'model__subsample': 0.7},\n",
       " {'model__learning_rate': 0.05,\n",
       "  'model__max_depth': 7,\n",
       "  'model__n_estimators': 500,\n",
       "  'model__subsample': 0.9},\n",
       " {'model__learning_rate': 0.1,\n",
       "  'model__max_depth': 5,\n",
       "  'model__n_estimators': 100,\n",
       "  'model__subsample': 0.7},\n",
       " {'model__learning_rate': 0.1,\n",
       "  'model__max_depth': 5,\n",
       "  'model__n_estimators': 100,\n",
       "  'model__subsample': 0.9},\n",
       " {'model__learning_rate': 0.1,\n",
       "  'model__max_depth': 5,\n",
       "  'model__n_estimators': 500,\n",
       "  'model__subsample': 0.7},\n",
       " {'model__learning_rate': 0.1,\n",
       "  'model__max_depth': 5,\n",
       "  'model__n_estimators': 500,\n",
       "  'model__subsample': 0.9},\n",
       " {'model__learning_rate': 0.1,\n",
       "  'model__max_depth': 7,\n",
       "  'model__n_estimators': 100,\n",
       "  'model__subsample': 0.7},\n",
       " {'model__learning_rate': 0.1,\n",
       "  'model__max_depth': 7,\n",
       "  'model__n_estimators': 100,\n",
       "  'model__subsample': 0.9},\n",
       " {'model__learning_rate': 0.1,\n",
       "  'model__max_depth': 7,\n",
       "  'model__n_estimators': 500,\n",
       "  'model__subsample': 0.7},\n",
       " {'model__learning_rate': 0.1,\n",
       "  'model__max_depth': 7,\n",
       "  'model__n_estimators': 500,\n",
       "  'model__subsample': 0.9}]"
      ]
     },
     "execution_count": 487,
     "metadata": {},
     "output_type": "execute_result"
    }
   ],
   "source": [
    "from sklearn.model_selection import ParameterGrid\n",
    "\n",
    "list(ParameterGrid(parameters))"
   ]
  },
  {
   "cell_type": "code",
   "execution_count": 488,
   "metadata": {},
   "outputs": [
    {
     "data": {
      "text/plain": [
       "16"
      ]
     },
     "execution_count": 488,
     "metadata": {},
     "output_type": "execute_result"
    }
   ],
   "source": [
    "len(list(ParameterGrid(parameters)))"
   ]
  },
  {
   "cell_type": "code",
   "execution_count": 489,
   "metadata": {},
   "outputs": [],
   "source": [
    "from sklearn.model_selection import GridSearchCV\n",
    "\n",
    "cv_folds = 3\n",
    "search = GridSearchCV(estimator=pipeline_6, param_grid=parameters, cv=cv_folds, n_jobs=4)"
   ]
  },
  {
   "cell_type": "code",
   "execution_count": 490,
   "metadata": {},
   "outputs": [
    {
     "name": "stdout",
     "output_type": "stream",
     "text": [
      "CPU times: user 3.61 s, sys: 723 ms, total: 4.34 s\n",
      "Wall time: 1min 8s\n"
     ]
    }
   ],
   "source": [
    "%%time\n",
    "import os\n",
    "\n",
    "import mlflow\n",
    "from dotenv import load_dotenv\n",
    "\n",
    "load_dotenv()\n",
    "\n",
    "mlflow.set_tracking_uri(os.getenv(\"LOCAL_MLFLOW_TRACKING_URI\"))\n",
    "mlflow.set_experiment(\"4G-grid-search\")\n",
    "\n",
    "\n",
    "with mlflow.start_run():\n",
    "    mlflow.sklearn.autolog()\n",
    "\n",
    "    search.fit(X=train_data[cols_set_6], y=train_data[y])\n",
    "\n",
    "    for idx, params in enumerate(search.cv_results_[\"params\"]):\n",
    "        with mlflow.start_run(nested=True):\n",
    "            for key, value in params.items():\n",
    "                mlflow.log_param(key, value)\n",
    "\n",
    "            # Log all available metrics for each iteration\n",
    "            for metric_name in search.cv_results_:\n",
    "                if metric_name.startswith((\"mean_\", \"std_\", \"split_\", \"rank_\")):\n",
    "                    mlflow.log_metric(metric_name, search.cv_results_[metric_name][idx])"
   ]
  },
  {
   "cell_type": "code",
   "execution_count": 491,
   "metadata": {},
   "outputs": [
    {
     "data": {
      "text/plain": [
       "{'model__learning_rate': 0.1,\n",
       " 'model__max_depth': 7,\n",
       " 'model__n_estimators': 100,\n",
       " 'model__subsample': 0.7}"
      ]
     },
     "execution_count": 491,
     "metadata": {},
     "output_type": "execute_result"
    }
   ],
   "source": [
    "search.best_params_"
   ]
  },
  {
   "cell_type": "code",
   "execution_count": 492,
   "metadata": {},
   "outputs": [
    {
     "data": {
      "text/plain": [
       "0.6754329662239398"
      ]
     },
     "execution_count": 492,
     "metadata": {},
     "output_type": "execute_result"
    }
   ],
   "source": [
    "search.best_score_"
   ]
  },
  {
   "cell_type": "code",
   "execution_count": 2,
   "metadata": {},
   "outputs": [
    {
     "data": {
      "text/plain": [
       "'import pandas as pd\\n\\nwith pd.option_context(\"display.max_rows\", None, \"display.max_columns\", None):\\n    display(pd.DataFrame(search.cv_results_).sort_values(by=\"rank_test_score\"))'"
      ]
     },
     "execution_count": 2,
     "metadata": {},
     "output_type": "execute_result"
    }
   ],
   "source": [
    "import pandas as pd\n",
    "\n",
    "with pd.option_context(\"display.max_rows\", None, \"display.max_columns\", None):\n",
    "    display(pd.DataFrame(search.cv_results_).sort_values(by=\"rank_test_score\"))"
   ]
  },
  {
   "cell_type": "markdown",
   "metadata": {},
   "source": [
    "## Performance"
   ]
  },
  {
   "cell_type": "markdown",
   "metadata": {},
   "source": [
    "R-squared"
   ]
  },
  {
   "cell_type": "code",
   "execution_count": 493,
   "metadata": {},
   "outputs": [
    {
     "data": {
      "text/plain": [
       "0.6164003388657189"
      ]
     },
     "execution_count": 493,
     "metadata": {},
     "output_type": "execute_result"
    }
   ],
   "source": [
    "search.score(X=test_data[X], y=test_data[y])"
   ]
  },
  {
   "cell_type": "markdown",
   "metadata": {},
   "source": [
    "Mean Absolute Error"
   ]
  },
  {
   "cell_type": "code",
   "execution_count": 494,
   "metadata": {},
   "outputs": [
    {
     "data": {
      "text/plain": [
       "18751.20348316936"
      ]
     },
     "execution_count": 494,
     "metadata": {},
     "output_type": "execute_result"
    }
   ],
   "source": [
    "from sklearn.metrics import mean_absolute_error\n",
    "\n",
    "mean_absolute_error(y_pred=search.predict(test_data[X]), y_true=test_data[y])"
   ]
  },
  {
   "cell_type": "markdown",
   "metadata": {},
   "source": []
  }
 ],
 "metadata": {
  "kernelspec": {
   "display_name": "Python 3.9.12 ('ads3-03-e2e')",
   "language": "python",
   "name": "python3"
  },
  "language_info": {
   "codemirror_mode": {
    "name": "ipython",
    "version": 3
   },
   "file_extension": ".py",
   "mimetype": "text/x-python",
   "name": "python",
   "nbconvert_exporter": "python",
   "pygments_lexer": "ipython3",
   "version": "3.11.8"
  },
  "orig_nbformat": 4,
  "vscode": {
   "interpreter": {
    "hash": "7dda575964029847821f774d67ee288cb7761a9a59c41206532536da7da0cf57"
   }
  }
 },
 "nbformat": 4,
 "nbformat_minor": 2
}
