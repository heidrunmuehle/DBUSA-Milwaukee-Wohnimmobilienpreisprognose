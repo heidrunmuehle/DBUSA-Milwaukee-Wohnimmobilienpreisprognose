{
 "cells": [
  {
   "cell_type": "markdown",
   "metadata": {},
   "source": [
    "Gradient Boosting \n",
    "\n",
    "Environment für dieses Notebook: `ads-ml-full` (*requirements-py3.11-ads-ml-full.txt*)."
   ]
  },
  {
   "cell_type": "markdown",
   "metadata": {},
   "source": [
    "\n",
    "## Daten einlesen"
   ]
  },
  {
   "cell_type": "code",
   "execution_count": 1,
   "metadata": {},
   "outputs": [],
   "source": [
    "from pathlib import Path\n",
    "\n",
    "URL = (\n",
    "    \"https://data.milwaukee.gov/dataset/7a8b81f6-d750-4f62-aee8-30ffce1c64ce/resource/f083631f-e34e-4ad6-aba1-d6d7dd265170/download/2002-2018-property-sales-data.csv\"\n",
    ")\n",
    "data = Path(\"/Users/knaflhei/Documents/DBUSA/data/subset_wohnraum_final.csv\")"
   ]
  },
  {
   "cell_type": "code",
   "execution_count": 2,
   "metadata": {},
   "outputs": [
    {
     "data": {
      "text/html": [
       "<div>\n",
       "<style scoped>\n",
       "    .dataframe tbody tr th:only-of-type {\n",
       "        vertical-align: middle;\n",
       "    }\n",
       "\n",
       "    .dataframe tbody tr th {\n",
       "        vertical-align: top;\n",
       "    }\n",
       "\n",
       "    .dataframe thead th {\n",
       "        text-align: right;\n",
       "    }\n",
       "</style>\n",
       "<table border=\"1\" class=\"dataframe\">\n",
       "  <thead>\n",
       "    <tr style=\"text-align: right;\">\n",
       "      <th></th>\n",
       "      <th>Unnamed: 0</th>\n",
       "      <th>PropType</th>\n",
       "      <th>District</th>\n",
       "      <th>Style</th>\n",
       "      <th>Year_Built</th>\n",
       "      <th>Fin_sqft</th>\n",
       "      <th>Fbath</th>\n",
       "      <th>Lotsize</th>\n",
       "      <th>Sale_date</th>\n",
       "      <th>Sale_price</th>\n",
       "      <th>Fläche_pro_Bad</th>\n",
       "      <th>Immobilien_Alter</th>\n",
       "      <th>Premium</th>\n",
       "    </tr>\n",
       "  </thead>\n",
       "  <tbody>\n",
       "    <tr>\n",
       "      <th>0</th>\n",
       "      <td>8</td>\n",
       "      <td>Residential</td>\n",
       "      <td>1</td>\n",
       "      <td>Cape Cod</td>\n",
       "      <td>1951</td>\n",
       "      <td>1620.0</td>\n",
       "      <td>2</td>\n",
       "      <td>7800.0</td>\n",
       "      <td>2003-12</td>\n",
       "      <td>148500</td>\n",
       "      <td>3900.0</td>\n",
       "      <td>73</td>\n",
       "      <td>0</td>\n",
       "    </tr>\n",
       "    <tr>\n",
       "      <th>1</th>\n",
       "      <td>9</td>\n",
       "      <td>Residential</td>\n",
       "      <td>13</td>\n",
       "      <td>Ranch</td>\n",
       "      <td>1956</td>\n",
       "      <td>986.0</td>\n",
       "      <td>1</td>\n",
       "      <td>10428.0</td>\n",
       "      <td>2003-12</td>\n",
       "      <td>105000</td>\n",
       "      <td>10428.0</td>\n",
       "      <td>68</td>\n",
       "      <td>0</td>\n",
       "    </tr>\n",
       "    <tr>\n",
       "      <th>2</th>\n",
       "      <td>63</td>\n",
       "      <td>Residential</td>\n",
       "      <td>9</td>\n",
       "      <td>Colonial</td>\n",
       "      <td>2007</td>\n",
       "      <td>2237.0</td>\n",
       "      <td>2</td>\n",
       "      <td>11129.0</td>\n",
       "      <td>2007-08</td>\n",
       "      <td>257000</td>\n",
       "      <td>5564.5</td>\n",
       "      <td>17</td>\n",
       "      <td>0</td>\n",
       "    </tr>\n",
       "    <tr>\n",
       "      <th>3</th>\n",
       "      <td>77</td>\n",
       "      <td>Residential</td>\n",
       "      <td>1</td>\n",
       "      <td>Colonial</td>\n",
       "      <td>2004</td>\n",
       "      <td>1470.0</td>\n",
       "      <td>2</td>\n",
       "      <td>5945.0</td>\n",
       "      <td>2009-01</td>\n",
       "      <td>107500</td>\n",
       "      <td>2972.5</td>\n",
       "      <td>20</td>\n",
       "      <td>0</td>\n",
       "    </tr>\n",
       "    <tr>\n",
       "      <th>4</th>\n",
       "      <td>78</td>\n",
       "      <td>Residential</td>\n",
       "      <td>2</td>\n",
       "      <td>Cape Cod</td>\n",
       "      <td>1954</td>\n",
       "      <td>1456.0</td>\n",
       "      <td>1</td>\n",
       "      <td>5590.0</td>\n",
       "      <td>2009-01</td>\n",
       "      <td>120900</td>\n",
       "      <td>5590.0</td>\n",
       "      <td>70</td>\n",
       "      <td>0</td>\n",
       "    </tr>\n",
       "    <tr>\n",
       "      <th>5</th>\n",
       "      <td>79</td>\n",
       "      <td>Residential</td>\n",
       "      <td>2</td>\n",
       "      <td>Ranch</td>\n",
       "      <td>1966</td>\n",
       "      <td>1379.0</td>\n",
       "      <td>1</td>\n",
       "      <td>8190.0</td>\n",
       "      <td>2009-01</td>\n",
       "      <td>129900</td>\n",
       "      <td>8190.0</td>\n",
       "      <td>58</td>\n",
       "      <td>0</td>\n",
       "    </tr>\n",
       "    <tr>\n",
       "      <th>6</th>\n",
       "      <td>80</td>\n",
       "      <td>Residential</td>\n",
       "      <td>2</td>\n",
       "      <td>Ranch</td>\n",
       "      <td>1962</td>\n",
       "      <td>1361.0</td>\n",
       "      <td>1</td>\n",
       "      <td>5750.0</td>\n",
       "      <td>2009-01</td>\n",
       "      <td>126500</td>\n",
       "      <td>5750.0</td>\n",
       "      <td>62</td>\n",
       "      <td>0</td>\n",
       "    </tr>\n",
       "    <tr>\n",
       "      <th>7</th>\n",
       "      <td>81</td>\n",
       "      <td>Residential</td>\n",
       "      <td>2</td>\n",
       "      <td>Ranch</td>\n",
       "      <td>1964</td>\n",
       "      <td>1334.0</td>\n",
       "      <td>1</td>\n",
       "      <td>5544.0</td>\n",
       "      <td>2009-01</td>\n",
       "      <td>109000</td>\n",
       "      <td>5544.0</td>\n",
       "      <td>60</td>\n",
       "      <td>0</td>\n",
       "    </tr>\n",
       "    <tr>\n",
       "      <th>8</th>\n",
       "      <td>82</td>\n",
       "      <td>Residential</td>\n",
       "      <td>2</td>\n",
       "      <td>Ranch</td>\n",
       "      <td>1962</td>\n",
       "      <td>1334.0</td>\n",
       "      <td>1</td>\n",
       "      <td>5250.0</td>\n",
       "      <td>2009-01</td>\n",
       "      <td>108000</td>\n",
       "      <td>5250.0</td>\n",
       "      <td>62</td>\n",
       "      <td>0</td>\n",
       "    </tr>\n",
       "    <tr>\n",
       "      <th>9</th>\n",
       "      <td>83</td>\n",
       "      <td>Residential</td>\n",
       "      <td>2</td>\n",
       "      <td>Ranch</td>\n",
       "      <td>1959</td>\n",
       "      <td>1288.0</td>\n",
       "      <td>2</td>\n",
       "      <td>5400.0</td>\n",
       "      <td>2009-01</td>\n",
       "      <td>115000</td>\n",
       "      <td>2700.0</td>\n",
       "      <td>65</td>\n",
       "      <td>0</td>\n",
       "    </tr>\n",
       "  </tbody>\n",
       "</table>\n",
       "</div>"
      ],
      "text/plain": [
       "   Unnamed: 0     PropType  District     Style  Year_Built  Fin_sqft  Fbath  \\\n",
       "0           8  Residential         1  Cape Cod        1951    1620.0      2   \n",
       "1           9  Residential        13     Ranch        1956     986.0      1   \n",
       "2          63  Residential         9  Colonial        2007    2237.0      2   \n",
       "3          77  Residential         1  Colonial        2004    1470.0      2   \n",
       "4          78  Residential         2  Cape Cod        1954    1456.0      1   \n",
       "5          79  Residential         2     Ranch        1966    1379.0      1   \n",
       "6          80  Residential         2     Ranch        1962    1361.0      1   \n",
       "7          81  Residential         2     Ranch        1964    1334.0      1   \n",
       "8          82  Residential         2     Ranch        1962    1334.0      1   \n",
       "9          83  Residential         2     Ranch        1959    1288.0      2   \n",
       "\n",
       "   Lotsize Sale_date  Sale_price  Fläche_pro_Bad  Immobilien_Alter  Premium  \n",
       "0   7800.0   2003-12      148500          3900.0                73        0  \n",
       "1  10428.0   2003-12      105000         10428.0                68        0  \n",
       "2  11129.0   2007-08      257000          5564.5                17        0  \n",
       "3   5945.0   2009-01      107500          2972.5                20        0  \n",
       "4   5590.0   2009-01      120900          5590.0                70        0  \n",
       "5   8190.0   2009-01      129900          8190.0                58        0  \n",
       "6   5750.0   2009-01      126500          5750.0                62        0  \n",
       "7   5544.0   2009-01      109000          5544.0                60        0  \n",
       "8   5250.0   2009-01      108000          5250.0                62        0  \n",
       "9   5400.0   2009-01      115000          2700.0                65        0  "
      ]
     },
     "execution_count": 2,
     "metadata": {},
     "output_type": "execute_result"
    }
   ],
   "source": [
    "import pandas as pd\n",
    "\n",
    "data = pd.read_csv(\"/Users/knaflhei/Documents/DBUSA/data/subset_wohnraum_final.csv\") \n",
    "data.head(10)"
   ]
  },
  {
   "cell_type": "markdown",
   "metadata": {},
   "source": [
    "## Trainings- und Testdaten"
   ]
  },
  {
   "cell_type": "code",
   "execution_count": 5,
   "metadata": {},
   "outputs": [
    {
     "data": {
      "text/plain": [
       "0"
      ]
     },
     "execution_count": 5,
     "metadata": {},
     "output_type": "execute_result"
    }
   ],
   "source": [
    "unlabeled = data[data[\"Immobilien_Alter\"].isna()].copy()\n",
    "len(unlabeled)"
   ]
  },
  {
   "cell_type": "code",
   "execution_count": 6,
   "metadata": {},
   "outputs": [
    {
     "data": {
      "text/plain": [
       "9192"
      ]
     },
     "execution_count": 6,
     "metadata": {},
     "output_type": "execute_result"
    }
   ],
   "source": [
    "labeled = data[data[\"Immobilien_Alter\"].notna()]\n",
    "len(labeled)"
   ]
  },
  {
   "cell_type": "code",
   "execution_count": null,
   "metadata": {},
   "outputs": [],
   "source": [
    "unlabeled = data[data[\"Year_Built\"].isna()].copy()\n",
    "len(unlabeled)"
   ]
  },
  {
   "cell_type": "code",
   "execution_count": null,
   "metadata": {},
   "outputs": [],
   "source": [
    "labeled = data[data[\"Year_Built\"].notna()]\n",
    "len(labeled)"
   ]
  },
  {
   "cell_type": "code",
   "execution_count": null,
   "metadata": {},
   "outputs": [],
   "source": [
    "unlabeled = data[data[\"Lotsize\"].isna()].copy()\n",
    "len(unlabeled)"
   ]
  },
  {
   "cell_type": "code",
   "execution_count": null,
   "metadata": {},
   "outputs": [],
   "source": [
    "labeled = data[data[\"Lotsize\"].notna()]##\n",
    "len(labeled)"
   ]
  },
  {
   "cell_type": "code",
   "execution_count": null,
   "metadata": {},
   "outputs": [],
   "source": [
    "unlabeled = data[data[\"Fbath\"].isna()].copy()\n",
    "len(unlabeled)"
   ]
  },
  {
   "cell_type": "code",
   "execution_count": null,
   "metadata": {},
   "outputs": [],
   "source": [
    "labeled = data[data[\"Fbath\"].notna()]##\n",
    "len(labeled)"
   ]
  },
  {
   "cell_type": "code",
   "execution_count": null,
   "metadata": {},
   "outputs": [],
   "source": [
    "unlabeled = data[data[\"Style\"].isna()].copy()\n",
    "len(unlabeled)"
   ]
  },
  {
   "cell_type": "code",
   "execution_count": null,
   "metadata": {},
   "outputs": [],
   "source": [
    "labeled = data[data[\"Style\"].notna()] ##\n",
    "len(labeled) "
   ]
  },
  {
   "cell_type": "code",
   "execution_count": null,
   "metadata": {},
   "outputs": [],
   "source": [
    "unlabeled = data[data[\"District\"].isna()].copy()\n",
    "len(unlabeled)"
   ]
  },
  {
   "cell_type": "code",
   "execution_count": null,
   "metadata": {},
   "outputs": [],
   "source": [
    "labeled = data[data[\"District\"].notna()] ##\n",
    "len(labeled) "
   ]
  },
  {
   "cell_type": "code",
   "execution_count": null,
   "metadata": {},
   "outputs": [],
   "source": [
    "unlabeled = data[data[\"Premium\"].isna()].copy()\n",
    "len(unlabeled)"
   ]
  },
  {
   "cell_type": "code",
   "execution_count": null,
   "metadata": {},
   "outputs": [],
   "source": [
    "labeled = data[data[\"Premium\"].notna()] ##\n",
    "len(labeled) "
   ]
  },
  {
   "cell_type": "code",
   "execution_count": null,
   "metadata": {},
   "outputs": [],
   "source": [
    "unlabeled = data[data[\"PropType\"].isna()].copy()\n",
    "len(unlabeled)"
   ]
  },
  {
   "cell_type": "code",
   "execution_count": null,
   "metadata": {},
   "outputs": [],
   "source": [
    "labeled = data[data[\"PropType\"].notna()] ##\n",
    "len(labeled) "
   ]
  },
  {
   "cell_type": "code",
   "execution_count": 49,
   "metadata": {},
   "outputs": [],
   "source": [
    "from sklearn.model_selection import train_test_split\n",
    "\n",
    "y = \"Sale_price\"\n",
    "X = labeled.columns.to_list()\n",
    "X.remove(y)\n",
    "train_data, test_data = train_test_split(labeled, test_size=0.2, random_state=42)"
   ]
  },
  {
   "cell_type": "code",
   "execution_count": 50,
   "metadata": {},
   "outputs": [
    {
     "data": {
      "text/html": [
       "<div>\n",
       "<style scoped>\n",
       "    .dataframe tbody tr th:only-of-type {\n",
       "        vertical-align: middle;\n",
       "    }\n",
       "\n",
       "    .dataframe tbody tr th {\n",
       "        vertical-align: top;\n",
       "    }\n",
       "\n",
       "    .dataframe thead th {\n",
       "        text-align: right;\n",
       "    }\n",
       "</style>\n",
       "<table border=\"1\" class=\"dataframe\">\n",
       "  <thead>\n",
       "    <tr style=\"text-align: right;\">\n",
       "      <th></th>\n",
       "      <th>Unnamed: 0</th>\n",
       "      <th>PropType</th>\n",
       "      <th>District</th>\n",
       "      <th>Style</th>\n",
       "      <th>Year_Built</th>\n",
       "      <th>Fin_sqft</th>\n",
       "      <th>Fbath</th>\n",
       "      <th>Lotsize</th>\n",
       "      <th>Sale_date</th>\n",
       "      <th>Sale_price</th>\n",
       "      <th>Fläche_pro_Bad</th>\n",
       "      <th>Immobilien_Alter</th>\n",
       "      <th>Premium</th>\n",
       "    </tr>\n",
       "  </thead>\n",
       "  <tbody>\n",
       "    <tr>\n",
       "      <th>0</th>\n",
       "      <td>8</td>\n",
       "      <td>Residential</td>\n",
       "      <td>1</td>\n",
       "      <td>Cape Cod</td>\n",
       "      <td>1951</td>\n",
       "      <td>1620.0</td>\n",
       "      <td>2</td>\n",
       "      <td>7800.0</td>\n",
       "      <td>2003-12</td>\n",
       "      <td>148500</td>\n",
       "      <td>3900.0</td>\n",
       "      <td>73</td>\n",
       "      <td>0</td>\n",
       "    </tr>\n",
       "    <tr>\n",
       "      <th>1</th>\n",
       "      <td>9</td>\n",
       "      <td>Residential</td>\n",
       "      <td>13</td>\n",
       "      <td>Ranch</td>\n",
       "      <td>1956</td>\n",
       "      <td>986.0</td>\n",
       "      <td>1</td>\n",
       "      <td>10428.0</td>\n",
       "      <td>2003-12</td>\n",
       "      <td>105000</td>\n",
       "      <td>10428.0</td>\n",
       "      <td>68</td>\n",
       "      <td>0</td>\n",
       "    </tr>\n",
       "    <tr>\n",
       "      <th>2</th>\n",
       "      <td>63</td>\n",
       "      <td>Residential</td>\n",
       "      <td>9</td>\n",
       "      <td>Colonial</td>\n",
       "      <td>2007</td>\n",
       "      <td>2237.0</td>\n",
       "      <td>2</td>\n",
       "      <td>11129.0</td>\n",
       "      <td>2007-08</td>\n",
       "      <td>257000</td>\n",
       "      <td>5564.5</td>\n",
       "      <td>17</td>\n",
       "      <td>0</td>\n",
       "    </tr>\n",
       "    <tr>\n",
       "      <th>3</th>\n",
       "      <td>77</td>\n",
       "      <td>Residential</td>\n",
       "      <td>1</td>\n",
       "      <td>Colonial</td>\n",
       "      <td>2004</td>\n",
       "      <td>1470.0</td>\n",
       "      <td>2</td>\n",
       "      <td>5945.0</td>\n",
       "      <td>2009-01</td>\n",
       "      <td>107500</td>\n",
       "      <td>2972.5</td>\n",
       "      <td>20</td>\n",
       "      <td>0</td>\n",
       "    </tr>\n",
       "    <tr>\n",
       "      <th>4</th>\n",
       "      <td>78</td>\n",
       "      <td>Residential</td>\n",
       "      <td>2</td>\n",
       "      <td>Cape Cod</td>\n",
       "      <td>1954</td>\n",
       "      <td>1456.0</td>\n",
       "      <td>1</td>\n",
       "      <td>5590.0</td>\n",
       "      <td>2009-01</td>\n",
       "      <td>120900</td>\n",
       "      <td>5590.0</td>\n",
       "      <td>70</td>\n",
       "      <td>0</td>\n",
       "    </tr>\n",
       "    <tr>\n",
       "      <th>5</th>\n",
       "      <td>79</td>\n",
       "      <td>Residential</td>\n",
       "      <td>2</td>\n",
       "      <td>Ranch</td>\n",
       "      <td>1966</td>\n",
       "      <td>1379.0</td>\n",
       "      <td>1</td>\n",
       "      <td>8190.0</td>\n",
       "      <td>2009-01</td>\n",
       "      <td>129900</td>\n",
       "      <td>8190.0</td>\n",
       "      <td>58</td>\n",
       "      <td>0</td>\n",
       "    </tr>\n",
       "    <tr>\n",
       "      <th>6</th>\n",
       "      <td>80</td>\n",
       "      <td>Residential</td>\n",
       "      <td>2</td>\n",
       "      <td>Ranch</td>\n",
       "      <td>1962</td>\n",
       "      <td>1361.0</td>\n",
       "      <td>1</td>\n",
       "      <td>5750.0</td>\n",
       "      <td>2009-01</td>\n",
       "      <td>126500</td>\n",
       "      <td>5750.0</td>\n",
       "      <td>62</td>\n",
       "      <td>0</td>\n",
       "    </tr>\n",
       "    <tr>\n",
       "      <th>7</th>\n",
       "      <td>81</td>\n",
       "      <td>Residential</td>\n",
       "      <td>2</td>\n",
       "      <td>Ranch</td>\n",
       "      <td>1964</td>\n",
       "      <td>1334.0</td>\n",
       "      <td>1</td>\n",
       "      <td>5544.0</td>\n",
       "      <td>2009-01</td>\n",
       "      <td>109000</td>\n",
       "      <td>5544.0</td>\n",
       "      <td>60</td>\n",
       "      <td>0</td>\n",
       "    </tr>\n",
       "    <tr>\n",
       "      <th>8</th>\n",
       "      <td>82</td>\n",
       "      <td>Residential</td>\n",
       "      <td>2</td>\n",
       "      <td>Ranch</td>\n",
       "      <td>1962</td>\n",
       "      <td>1334.0</td>\n",
       "      <td>1</td>\n",
       "      <td>5250.0</td>\n",
       "      <td>2009-01</td>\n",
       "      <td>108000</td>\n",
       "      <td>5250.0</td>\n",
       "      <td>62</td>\n",
       "      <td>0</td>\n",
       "    </tr>\n",
       "    <tr>\n",
       "      <th>9</th>\n",
       "      <td>83</td>\n",
       "      <td>Residential</td>\n",
       "      <td>2</td>\n",
       "      <td>Ranch</td>\n",
       "      <td>1959</td>\n",
       "      <td>1288.0</td>\n",
       "      <td>2</td>\n",
       "      <td>5400.0</td>\n",
       "      <td>2009-01</td>\n",
       "      <td>115000</td>\n",
       "      <td>2700.0</td>\n",
       "      <td>65</td>\n",
       "      <td>0</td>\n",
       "    </tr>\n",
       "  </tbody>\n",
       "</table>\n",
       "</div>"
      ],
      "text/plain": [
       "   Unnamed: 0     PropType  District     Style  Year_Built  Fin_sqft  Fbath  \\\n",
       "0           8  Residential         1  Cape Cod        1951    1620.0      2   \n",
       "1           9  Residential        13     Ranch        1956     986.0      1   \n",
       "2          63  Residential         9  Colonial        2007    2237.0      2   \n",
       "3          77  Residential         1  Colonial        2004    1470.0      2   \n",
       "4          78  Residential         2  Cape Cod        1954    1456.0      1   \n",
       "5          79  Residential         2     Ranch        1966    1379.0      1   \n",
       "6          80  Residential         2     Ranch        1962    1361.0      1   \n",
       "7          81  Residential         2     Ranch        1964    1334.0      1   \n",
       "8          82  Residential         2     Ranch        1962    1334.0      1   \n",
       "9          83  Residential         2     Ranch        1959    1288.0      2   \n",
       "\n",
       "   Lotsize Sale_date  Sale_price  Fläche_pro_Bad  Immobilien_Alter  Premium  \n",
       "0   7800.0   2003-12      148500          3900.0                73        0  \n",
       "1  10428.0   2003-12      105000         10428.0                68        0  \n",
       "2  11129.0   2007-08      257000          5564.5                17        0  \n",
       "3   5945.0   2009-01      107500          2972.5                20        0  \n",
       "4   5590.0   2009-01      120900          5590.0                70        0  \n",
       "5   8190.0   2009-01      129900          8190.0                58        0  \n",
       "6   5750.0   2009-01      126500          5750.0                62        0  \n",
       "7   5544.0   2009-01      109000          5544.0                60        0  \n",
       "8   5250.0   2009-01      108000          5250.0                62        0  \n",
       "9   5400.0   2009-01      115000          2700.0                65        0  "
      ]
     },
     "execution_count": 50,
     "metadata": {},
     "output_type": "execute_result"
    }
   ],
   "source": [
    "data.head(10)"
   ]
  },
  {
   "cell_type": "markdown",
   "metadata": {},
   "source": [
    "### Alle (möglichen) Features"
   ]
  },
  {
   "cell_type": "code",
   "execution_count": 75,
   "metadata": {},
   "outputs": [],
   "source": [
    "num_cols_4 = [\n",
    "    \"Fbath\",\n",
    "    \"Lotsize\",\n",
    "    \"Fin_sqft\",\n",
    "    \"Immobilien_Alter\", #\"Sale_date\",  \"Fläche_pro_Bad\",\n",
    "]\n",
    "\n",
    "cat_cols_4 = [\n",
    "    \"PropType\",\n",
    "    \"District\",\n",
    "    \"Style\",\n",
    "    \"Premium\", #\"Year_Built\",\n",
    "]\n",
    "cols_set_4 = [*num_cols_4, *cat_cols_4]\n",
    "\n",
    "num_cols_4_ix = [cols_set_4.index(col) for col in num_cols_4]\n",
    "cat_cols_4_ix = [cols_set_4.index(col) for col in cat_cols_4]"
   ]
  },
  {
   "cell_type": "code",
   "execution_count": 76,
   "metadata": {},
   "outputs": [
    {
     "data": {
      "text/plain": [
       "[4, 5, 6, 7]"
      ]
     },
     "execution_count": 76,
     "metadata": {},
     "output_type": "execute_result"
    }
   ],
   "source": [
    "cat_cols_4_ix"
   ]
  },
  {
   "cell_type": "markdown",
   "metadata": {},
   "source": [
    "### Versuch 4: Gradient Boosting + mehr kategorische Features"
   ]
  },
  {
   "cell_type": "code",
   "execution_count": 77,
   "metadata": {},
   "outputs": [],
   "source": [
    "from sklearn.compose import ColumnTransformer\n",
    "from sklearn.experimental import enable_iterative_imputer\n",
    "from sklearn.impute import IterativeImputer\n",
    "\n",
    "ct_4a = ColumnTransformer(\n",
    "    transformers=[\n",
    "        (\"imp\", IterativeImputer(random_state=42), num_cols_4_ix),\n",
    "    ],\n",
    "    remainder=\"passthrough\",\n",
    ")"
   ]
  },
  {
   "cell_type": "code",
   "execution_count": 78,
   "metadata": {},
   "outputs": [],
   "source": [
    "from sklearn.preprocessing import OneHotEncoder, StandardScaler\n",
    "\n",
    "ct_4b = ColumnTransformer(\n",
    "    transformers=[\n",
    "        (\"scale\", StandardScaler(), num_cols_4_ix),\n",
    "        (\n",
    "            \"ohe\",\n",
    "            OneHotEncoder(handle_unknown=\"ignore\", sparse_output=True),\n",
    "            cat_cols_4_ix,\n",
    "        ),\n",
    "    ],\n",
    ")"
   ]
  },
  {
   "cell_type": "code",
   "execution_count": 79,
   "metadata": {},
   "outputs": [],
   "source": [
    "from sklearn.ensemble import GradientBoostingRegressor\n",
    "\n",
    "est_4 = GradientBoostingRegressor(\n",
    "    subsample=0.9,\n",
    "    n_estimators=100,\n",
    "    learning_rate=0.1,\n",
    "    max_depth=4,\n",
    "    min_samples_split=10,\n",
    "    min_samples_leaf=5,\n",
    "    random_state=42,\n",
    ")"
   ]
  },
  {
   "cell_type": "code",
   "execution_count": 80,
   "metadata": {},
   "outputs": [],
   "source": [
    "from sklearn.pipeline import Pipeline\n",
    "\n",
    "pipeline_4 = Pipeline(steps=[(\"prep_a\", ct_4a), (\"prep_b\", ct_4b), (\"model\", est_4)])"
   ]
  },
  {
   "cell_type": "code",
   "execution_count": 81,
   "metadata": {},
   "outputs": [
    {
     "data": {
      "text/html": [
       "<style>#sk-container-id-8 {color: black;}#sk-container-id-8 pre{padding: 0;}#sk-container-id-8 div.sk-toggleable {background-color: white;}#sk-container-id-8 label.sk-toggleable__label {cursor: pointer;display: block;width: 100%;margin-bottom: 0;padding: 0.3em;box-sizing: border-box;text-align: center;}#sk-container-id-8 label.sk-toggleable__label-arrow:before {content: \"▸\";float: left;margin-right: 0.25em;color: #696969;}#sk-container-id-8 label.sk-toggleable__label-arrow:hover:before {color: black;}#sk-container-id-8 div.sk-estimator:hover label.sk-toggleable__label-arrow:before {color: black;}#sk-container-id-8 div.sk-toggleable__content {max-height: 0;max-width: 0;overflow: hidden;text-align: left;background-color: #f0f8ff;}#sk-container-id-8 div.sk-toggleable__content pre {margin: 0.2em;color: black;border-radius: 0.25em;background-color: #f0f8ff;}#sk-container-id-8 input.sk-toggleable__control:checked~div.sk-toggleable__content {max-height: 200px;max-width: 100%;overflow: auto;}#sk-container-id-8 input.sk-toggleable__control:checked~label.sk-toggleable__label-arrow:before {content: \"▾\";}#sk-container-id-8 div.sk-estimator input.sk-toggleable__control:checked~label.sk-toggleable__label {background-color: #d4ebff;}#sk-container-id-8 div.sk-label input.sk-toggleable__control:checked~label.sk-toggleable__label {background-color: #d4ebff;}#sk-container-id-8 input.sk-hidden--visually {border: 0;clip: rect(1px 1px 1px 1px);clip: rect(1px, 1px, 1px, 1px);height: 1px;margin: -1px;overflow: hidden;padding: 0;position: absolute;width: 1px;}#sk-container-id-8 div.sk-estimator {font-family: monospace;background-color: #f0f8ff;border: 1px dotted black;border-radius: 0.25em;box-sizing: border-box;margin-bottom: 0.5em;}#sk-container-id-8 div.sk-estimator:hover {background-color: #d4ebff;}#sk-container-id-8 div.sk-parallel-item::after {content: \"\";width: 100%;border-bottom: 1px solid gray;flex-grow: 1;}#sk-container-id-8 div.sk-label:hover label.sk-toggleable__label {background-color: #d4ebff;}#sk-container-id-8 div.sk-serial::before {content: \"\";position: absolute;border-left: 1px solid gray;box-sizing: border-box;top: 0;bottom: 0;left: 50%;z-index: 0;}#sk-container-id-8 div.sk-serial {display: flex;flex-direction: column;align-items: center;background-color: white;padding-right: 0.2em;padding-left: 0.2em;position: relative;}#sk-container-id-8 div.sk-item {position: relative;z-index: 1;}#sk-container-id-8 div.sk-parallel {display: flex;align-items: stretch;justify-content: center;background-color: white;position: relative;}#sk-container-id-8 div.sk-item::before, #sk-container-id-8 div.sk-parallel-item::before {content: \"\";position: absolute;border-left: 1px solid gray;box-sizing: border-box;top: 0;bottom: 0;left: 50%;z-index: -1;}#sk-container-id-8 div.sk-parallel-item {display: flex;flex-direction: column;z-index: 1;position: relative;background-color: white;}#sk-container-id-8 div.sk-parallel-item:first-child::after {align-self: flex-end;width: 50%;}#sk-container-id-8 div.sk-parallel-item:last-child::after {align-self: flex-start;width: 50%;}#sk-container-id-8 div.sk-parallel-item:only-child::after {width: 0;}#sk-container-id-8 div.sk-dashed-wrapped {border: 1px dashed gray;margin: 0 0.4em 0.5em 0.4em;box-sizing: border-box;padding-bottom: 0.4em;background-color: white;}#sk-container-id-8 div.sk-label label {font-family: monospace;font-weight: bold;display: inline-block;line-height: 1.2em;}#sk-container-id-8 div.sk-label-container {text-align: center;}#sk-container-id-8 div.sk-container {/* jupyter's `normalize.less` sets `[hidden] { display: none; }` but bootstrap.min.css set `[hidden] { display: none !important; }` so we also need the `!important` here to be able to override the default hidden behavior on the sphinx rendered scikit-learn.org. See: https://github.com/scikit-learn/scikit-learn/issues/21755 */display: inline-block !important;position: relative;}#sk-container-id-8 div.sk-text-repr-fallback {display: none;}</style><div id=\"sk-container-id-8\" class=\"sk-top-container\"><div class=\"sk-text-repr-fallback\"><pre>Pipeline(steps=[(&#x27;prep_a&#x27;,\n",
       "                 ColumnTransformer(remainder=&#x27;passthrough&#x27;,\n",
       "                                   transformers=[(&#x27;imp&#x27;,\n",
       "                                                  IterativeImputer(random_state=42),\n",
       "                                                  [0, 1, 2, 3])])),\n",
       "                (&#x27;prep_b&#x27;,\n",
       "                 ColumnTransformer(transformers=[(&#x27;scale&#x27;, StandardScaler(),\n",
       "                                                  [0, 1, 2, 3]),\n",
       "                                                 (&#x27;ohe&#x27;,\n",
       "                                                  OneHotEncoder(handle_unknown=&#x27;ignore&#x27;),\n",
       "                                                  [4, 5, 6, 7])])),\n",
       "                (&#x27;model&#x27;,\n",
       "                 GradientBoostingRegressor(max_depth=4, min_samples_leaf=5,\n",
       "                                           min_samples_split=10,\n",
       "                                           random_state=42, subsample=0.9))])</pre><b>In a Jupyter environment, please rerun this cell to show the HTML representation or trust the notebook. <br />On GitHub, the HTML representation is unable to render, please try loading this page with nbviewer.org.</b></div><div class=\"sk-container\" hidden><div class=\"sk-item sk-dashed-wrapped\"><div class=\"sk-label-container\"><div class=\"sk-label sk-toggleable\"><input class=\"sk-toggleable__control sk-hidden--visually\" id=\"sk-estimator-id-85\" type=\"checkbox\" ><label for=\"sk-estimator-id-85\" class=\"sk-toggleable__label sk-toggleable__label-arrow\">Pipeline</label><div class=\"sk-toggleable__content\"><pre>Pipeline(steps=[(&#x27;prep_a&#x27;,\n",
       "                 ColumnTransformer(remainder=&#x27;passthrough&#x27;,\n",
       "                                   transformers=[(&#x27;imp&#x27;,\n",
       "                                                  IterativeImputer(random_state=42),\n",
       "                                                  [0, 1, 2, 3])])),\n",
       "                (&#x27;prep_b&#x27;,\n",
       "                 ColumnTransformer(transformers=[(&#x27;scale&#x27;, StandardScaler(),\n",
       "                                                  [0, 1, 2, 3]),\n",
       "                                                 (&#x27;ohe&#x27;,\n",
       "                                                  OneHotEncoder(handle_unknown=&#x27;ignore&#x27;),\n",
       "                                                  [4, 5, 6, 7])])),\n",
       "                (&#x27;model&#x27;,\n",
       "                 GradientBoostingRegressor(max_depth=4, min_samples_leaf=5,\n",
       "                                           min_samples_split=10,\n",
       "                                           random_state=42, subsample=0.9))])</pre></div></div></div><div class=\"sk-serial\"><div class=\"sk-item sk-dashed-wrapped\"><div class=\"sk-label-container\"><div class=\"sk-label sk-toggleable\"><input class=\"sk-toggleable__control sk-hidden--visually\" id=\"sk-estimator-id-86\" type=\"checkbox\" ><label for=\"sk-estimator-id-86\" class=\"sk-toggleable__label sk-toggleable__label-arrow\">prep_a: ColumnTransformer</label><div class=\"sk-toggleable__content\"><pre>ColumnTransformer(remainder=&#x27;passthrough&#x27;,\n",
       "                  transformers=[(&#x27;imp&#x27;, IterativeImputer(random_state=42),\n",
       "                                 [0, 1, 2, 3])])</pre></div></div></div><div class=\"sk-parallel\"><div class=\"sk-parallel-item\"><div class=\"sk-item\"><div class=\"sk-label-container\"><div class=\"sk-label sk-toggleable\"><input class=\"sk-toggleable__control sk-hidden--visually\" id=\"sk-estimator-id-87\" type=\"checkbox\" ><label for=\"sk-estimator-id-87\" class=\"sk-toggleable__label sk-toggleable__label-arrow\">imp</label><div class=\"sk-toggleable__content\"><pre>[0, 1, 2, 3]</pre></div></div></div><div class=\"sk-serial\"><div class=\"sk-item\"><div class=\"sk-estimator sk-toggleable\"><input class=\"sk-toggleable__control sk-hidden--visually\" id=\"sk-estimator-id-88\" type=\"checkbox\" ><label for=\"sk-estimator-id-88\" class=\"sk-toggleable__label sk-toggleable__label-arrow\">IterativeImputer</label><div class=\"sk-toggleable__content\"><pre>IterativeImputer(random_state=42)</pre></div></div></div></div></div></div><div class=\"sk-parallel-item\"><div class=\"sk-item\"><div class=\"sk-label-container\"><div class=\"sk-label sk-toggleable\"><input class=\"sk-toggleable__control sk-hidden--visually\" id=\"sk-estimator-id-89\" type=\"checkbox\" ><label for=\"sk-estimator-id-89\" class=\"sk-toggleable__label sk-toggleable__label-arrow\">remainder</label><div class=\"sk-toggleable__content\"><pre></pre></div></div></div><div class=\"sk-serial\"><div class=\"sk-item\"><div class=\"sk-estimator sk-toggleable\"><input class=\"sk-toggleable__control sk-hidden--visually\" id=\"sk-estimator-id-90\" type=\"checkbox\" ><label for=\"sk-estimator-id-90\" class=\"sk-toggleable__label sk-toggleable__label-arrow\">passthrough</label><div class=\"sk-toggleable__content\"><pre>passthrough</pre></div></div></div></div></div></div></div></div><div class=\"sk-item sk-dashed-wrapped\"><div class=\"sk-label-container\"><div class=\"sk-label sk-toggleable\"><input class=\"sk-toggleable__control sk-hidden--visually\" id=\"sk-estimator-id-91\" type=\"checkbox\" ><label for=\"sk-estimator-id-91\" class=\"sk-toggleable__label sk-toggleable__label-arrow\">prep_b: ColumnTransformer</label><div class=\"sk-toggleable__content\"><pre>ColumnTransformer(transformers=[(&#x27;scale&#x27;, StandardScaler(), [0, 1, 2, 3]),\n",
       "                                (&#x27;ohe&#x27;, OneHotEncoder(handle_unknown=&#x27;ignore&#x27;),\n",
       "                                 [4, 5, 6, 7])])</pre></div></div></div><div class=\"sk-parallel\"><div class=\"sk-parallel-item\"><div class=\"sk-item\"><div class=\"sk-label-container\"><div class=\"sk-label sk-toggleable\"><input class=\"sk-toggleable__control sk-hidden--visually\" id=\"sk-estimator-id-92\" type=\"checkbox\" ><label for=\"sk-estimator-id-92\" class=\"sk-toggleable__label sk-toggleable__label-arrow\">scale</label><div class=\"sk-toggleable__content\"><pre>[0, 1, 2, 3]</pre></div></div></div><div class=\"sk-serial\"><div class=\"sk-item\"><div class=\"sk-estimator sk-toggleable\"><input class=\"sk-toggleable__control sk-hidden--visually\" id=\"sk-estimator-id-93\" type=\"checkbox\" ><label for=\"sk-estimator-id-93\" class=\"sk-toggleable__label sk-toggleable__label-arrow\">StandardScaler</label><div class=\"sk-toggleable__content\"><pre>StandardScaler()</pre></div></div></div></div></div></div><div class=\"sk-parallel-item\"><div class=\"sk-item\"><div class=\"sk-label-container\"><div class=\"sk-label sk-toggleable\"><input class=\"sk-toggleable__control sk-hidden--visually\" id=\"sk-estimator-id-94\" type=\"checkbox\" ><label for=\"sk-estimator-id-94\" class=\"sk-toggleable__label sk-toggleable__label-arrow\">ohe</label><div class=\"sk-toggleable__content\"><pre>[4, 5, 6, 7]</pre></div></div></div><div class=\"sk-serial\"><div class=\"sk-item\"><div class=\"sk-estimator sk-toggleable\"><input class=\"sk-toggleable__control sk-hidden--visually\" id=\"sk-estimator-id-95\" type=\"checkbox\" ><label for=\"sk-estimator-id-95\" class=\"sk-toggleable__label sk-toggleable__label-arrow\">OneHotEncoder</label><div class=\"sk-toggleable__content\"><pre>OneHotEncoder(handle_unknown=&#x27;ignore&#x27;)</pre></div></div></div></div></div></div></div></div><div class=\"sk-item\"><div class=\"sk-estimator sk-toggleable\"><input class=\"sk-toggleable__control sk-hidden--visually\" id=\"sk-estimator-id-96\" type=\"checkbox\" ><label for=\"sk-estimator-id-96\" class=\"sk-toggleable__label sk-toggleable__label-arrow\">GradientBoostingRegressor</label><div class=\"sk-toggleable__content\"><pre>GradientBoostingRegressor(max_depth=4, min_samples_leaf=5, min_samples_split=10,\n",
       "                          random_state=42, subsample=0.9)</pre></div></div></div></div></div></div></div>"
      ],
      "text/plain": [
       "Pipeline(steps=[('prep_a',\n",
       "                 ColumnTransformer(remainder='passthrough',\n",
       "                                   transformers=[('imp',\n",
       "                                                  IterativeImputer(random_state=42),\n",
       "                                                  [0, 1, 2, 3])])),\n",
       "                ('prep_b',\n",
       "                 ColumnTransformer(transformers=[('scale', StandardScaler(),\n",
       "                                                  [0, 1, 2, 3]),\n",
       "                                                 ('ohe',\n",
       "                                                  OneHotEncoder(handle_unknown='ignore'),\n",
       "                                                  [4, 5, 6, 7])])),\n",
       "                ('model',\n",
       "                 GradientBoostingRegressor(max_depth=4, min_samples_leaf=5,\n",
       "                                           min_samples_split=10,\n",
       "                                           random_state=42, subsample=0.9))])"
      ]
     },
     "execution_count": 81,
     "metadata": {},
     "output_type": "execute_result"
    }
   ],
   "source": [
    "pipeline_4"
   ]
  },
  {
   "cell_type": "code",
   "execution_count": 82,
   "metadata": {},
   "outputs": [
    {
     "name": "stdout",
     "output_type": "stream",
     "text": [
      "CPU times: user 44.4 ms, sys: 36.4 ms, total: 80.7 ms\n",
      "Wall time: 3.39 s\n"
     ]
    },
    {
     "data": {
      "text/plain": [
       "array([0.66377469, 0.57614969, 0.66235358, 0.65620151, 0.66379466])"
      ]
     },
     "execution_count": 82,
     "metadata": {},
     "output_type": "execute_result"
    }
   ],
   "source": [
    "%%time\n",
    "from sklearn.model_selection import cross_val_score\n",
    "\n",
    "cross_val_score(estimator=pipeline_4, X=train_data[cols_set_4], y=train_data[y], cv=5, n_jobs=3)"
   ]
  },
  {
   "cell_type": "code",
   "execution_count": 83,
   "metadata": {},
   "outputs": [],
   "source": [
    "import os\n",
    "from dotenv import load_dotenv\n",
    "import mlflow\n",
    "\n",
    "load_dotenv()\n",
    "\n",
    "mlflow.set_tracking_uri(os.getenv(\"LOCAL_MLFLOW_TRACKING_URI\"))  # \"sqlite:///mlflow.db\"\n",
    "mlflow.set_experiment(\"4E-e2e-part4\")\n",
    "mlflow.sklearn.autolog(log_models=False, log_datasets=False, silent=True)"
   ]
  },
  {
   "cell_type": "code",
   "execution_count": 84,
   "metadata": {},
   "outputs": [
    {
     "name": "stdout",
     "output_type": "stream",
     "text": [
      "CPU times: user 1.29 s, sys: 315 ms, total: 1.6 s\n",
      "Wall time: 1.28 s\n"
     ]
    },
    {
     "data": {
      "text/html": [
       "<style>#sk-container-id-10 {color: black;}#sk-container-id-10 pre{padding: 0;}#sk-container-id-10 div.sk-toggleable {background-color: white;}#sk-container-id-10 label.sk-toggleable__label {cursor: pointer;display: block;width: 100%;margin-bottom: 0;padding: 0.3em;box-sizing: border-box;text-align: center;}#sk-container-id-10 label.sk-toggleable__label-arrow:before {content: \"▸\";float: left;margin-right: 0.25em;color: #696969;}#sk-container-id-10 label.sk-toggleable__label-arrow:hover:before {color: black;}#sk-container-id-10 div.sk-estimator:hover label.sk-toggleable__label-arrow:before {color: black;}#sk-container-id-10 div.sk-toggleable__content {max-height: 0;max-width: 0;overflow: hidden;text-align: left;background-color: #f0f8ff;}#sk-container-id-10 div.sk-toggleable__content pre {margin: 0.2em;color: black;border-radius: 0.25em;background-color: #f0f8ff;}#sk-container-id-10 input.sk-toggleable__control:checked~div.sk-toggleable__content {max-height: 200px;max-width: 100%;overflow: auto;}#sk-container-id-10 input.sk-toggleable__control:checked~label.sk-toggleable__label-arrow:before {content: \"▾\";}#sk-container-id-10 div.sk-estimator input.sk-toggleable__control:checked~label.sk-toggleable__label {background-color: #d4ebff;}#sk-container-id-10 div.sk-label input.sk-toggleable__control:checked~label.sk-toggleable__label {background-color: #d4ebff;}#sk-container-id-10 input.sk-hidden--visually {border: 0;clip: rect(1px 1px 1px 1px);clip: rect(1px, 1px, 1px, 1px);height: 1px;margin: -1px;overflow: hidden;padding: 0;position: absolute;width: 1px;}#sk-container-id-10 div.sk-estimator {font-family: monospace;background-color: #f0f8ff;border: 1px dotted black;border-radius: 0.25em;box-sizing: border-box;margin-bottom: 0.5em;}#sk-container-id-10 div.sk-estimator:hover {background-color: #d4ebff;}#sk-container-id-10 div.sk-parallel-item::after {content: \"\";width: 100%;border-bottom: 1px solid gray;flex-grow: 1;}#sk-container-id-10 div.sk-label:hover label.sk-toggleable__label {background-color: #d4ebff;}#sk-container-id-10 div.sk-serial::before {content: \"\";position: absolute;border-left: 1px solid gray;box-sizing: border-box;top: 0;bottom: 0;left: 50%;z-index: 0;}#sk-container-id-10 div.sk-serial {display: flex;flex-direction: column;align-items: center;background-color: white;padding-right: 0.2em;padding-left: 0.2em;position: relative;}#sk-container-id-10 div.sk-item {position: relative;z-index: 1;}#sk-container-id-10 div.sk-parallel {display: flex;align-items: stretch;justify-content: center;background-color: white;position: relative;}#sk-container-id-10 div.sk-item::before, #sk-container-id-10 div.sk-parallel-item::before {content: \"\";position: absolute;border-left: 1px solid gray;box-sizing: border-box;top: 0;bottom: 0;left: 50%;z-index: -1;}#sk-container-id-10 div.sk-parallel-item {display: flex;flex-direction: column;z-index: 1;position: relative;background-color: white;}#sk-container-id-10 div.sk-parallel-item:first-child::after {align-self: flex-end;width: 50%;}#sk-container-id-10 div.sk-parallel-item:last-child::after {align-self: flex-start;width: 50%;}#sk-container-id-10 div.sk-parallel-item:only-child::after {width: 0;}#sk-container-id-10 div.sk-dashed-wrapped {border: 1px dashed gray;margin: 0 0.4em 0.5em 0.4em;box-sizing: border-box;padding-bottom: 0.4em;background-color: white;}#sk-container-id-10 div.sk-label label {font-family: monospace;font-weight: bold;display: inline-block;line-height: 1.2em;}#sk-container-id-10 div.sk-label-container {text-align: center;}#sk-container-id-10 div.sk-container {/* jupyter's `normalize.less` sets `[hidden] { display: none; }` but bootstrap.min.css set `[hidden] { display: none !important; }` so we also need the `!important` here to be able to override the default hidden behavior on the sphinx rendered scikit-learn.org. See: https://github.com/scikit-learn/scikit-learn/issues/21755 */display: inline-block !important;position: relative;}#sk-container-id-10 div.sk-text-repr-fallback {display: none;}</style><div id=\"sk-container-id-10\" class=\"sk-top-container\"><div class=\"sk-text-repr-fallback\"><pre>Pipeline(steps=[(&#x27;prep_a&#x27;,\n",
       "                 ColumnTransformer(remainder=&#x27;passthrough&#x27;,\n",
       "                                   transformers=[(&#x27;imp&#x27;,\n",
       "                                                  IterativeImputer(random_state=42),\n",
       "                                                  [0, 1, 2, 3])])),\n",
       "                (&#x27;prep_b&#x27;,\n",
       "                 ColumnTransformer(transformers=[(&#x27;scale&#x27;, StandardScaler(),\n",
       "                                                  [0, 1, 2, 3]),\n",
       "                                                 (&#x27;ohe&#x27;,\n",
       "                                                  OneHotEncoder(handle_unknown=&#x27;ignore&#x27;),\n",
       "                                                  [4, 5, 6, 7])])),\n",
       "                (&#x27;model&#x27;,\n",
       "                 GradientBoostingRegressor(max_depth=4, min_samples_leaf=5,\n",
       "                                           min_samples_split=10,\n",
       "                                           random_state=42, subsample=0.9))])</pre><b>In a Jupyter environment, please rerun this cell to show the HTML representation or trust the notebook. <br />On GitHub, the HTML representation is unable to render, please try loading this page with nbviewer.org.</b></div><div class=\"sk-container\" hidden><div class=\"sk-item sk-dashed-wrapped\"><div class=\"sk-label-container\"><div class=\"sk-label sk-toggleable\"><input class=\"sk-toggleable__control sk-hidden--visually\" id=\"sk-estimator-id-109\" type=\"checkbox\" ><label for=\"sk-estimator-id-109\" class=\"sk-toggleable__label sk-toggleable__label-arrow\">Pipeline</label><div class=\"sk-toggleable__content\"><pre>Pipeline(steps=[(&#x27;prep_a&#x27;,\n",
       "                 ColumnTransformer(remainder=&#x27;passthrough&#x27;,\n",
       "                                   transformers=[(&#x27;imp&#x27;,\n",
       "                                                  IterativeImputer(random_state=42),\n",
       "                                                  [0, 1, 2, 3])])),\n",
       "                (&#x27;prep_b&#x27;,\n",
       "                 ColumnTransformer(transformers=[(&#x27;scale&#x27;, StandardScaler(),\n",
       "                                                  [0, 1, 2, 3]),\n",
       "                                                 (&#x27;ohe&#x27;,\n",
       "                                                  OneHotEncoder(handle_unknown=&#x27;ignore&#x27;),\n",
       "                                                  [4, 5, 6, 7])])),\n",
       "                (&#x27;model&#x27;,\n",
       "                 GradientBoostingRegressor(max_depth=4, min_samples_leaf=5,\n",
       "                                           min_samples_split=10,\n",
       "                                           random_state=42, subsample=0.9))])</pre></div></div></div><div class=\"sk-serial\"><div class=\"sk-item sk-dashed-wrapped\"><div class=\"sk-label-container\"><div class=\"sk-label sk-toggleable\"><input class=\"sk-toggleable__control sk-hidden--visually\" id=\"sk-estimator-id-110\" type=\"checkbox\" ><label for=\"sk-estimator-id-110\" class=\"sk-toggleable__label sk-toggleable__label-arrow\">prep_a: ColumnTransformer</label><div class=\"sk-toggleable__content\"><pre>ColumnTransformer(remainder=&#x27;passthrough&#x27;,\n",
       "                  transformers=[(&#x27;imp&#x27;, IterativeImputer(random_state=42),\n",
       "                                 [0, 1, 2, 3])])</pre></div></div></div><div class=\"sk-parallel\"><div class=\"sk-parallel-item\"><div class=\"sk-item\"><div class=\"sk-label-container\"><div class=\"sk-label sk-toggleable\"><input class=\"sk-toggleable__control sk-hidden--visually\" id=\"sk-estimator-id-111\" type=\"checkbox\" ><label for=\"sk-estimator-id-111\" class=\"sk-toggleable__label sk-toggleable__label-arrow\">imp</label><div class=\"sk-toggleable__content\"><pre>[0, 1, 2, 3]</pre></div></div></div><div class=\"sk-serial\"><div class=\"sk-item\"><div class=\"sk-estimator sk-toggleable\"><input class=\"sk-toggleable__control sk-hidden--visually\" id=\"sk-estimator-id-112\" type=\"checkbox\" ><label for=\"sk-estimator-id-112\" class=\"sk-toggleable__label sk-toggleable__label-arrow\">IterativeImputer</label><div class=\"sk-toggleable__content\"><pre>IterativeImputer(random_state=42)</pre></div></div></div></div></div></div><div class=\"sk-parallel-item\"><div class=\"sk-item\"><div class=\"sk-label-container\"><div class=\"sk-label sk-toggleable\"><input class=\"sk-toggleable__control sk-hidden--visually\" id=\"sk-estimator-id-113\" type=\"checkbox\" ><label for=\"sk-estimator-id-113\" class=\"sk-toggleable__label sk-toggleable__label-arrow\">remainder</label><div class=\"sk-toggleable__content\"><pre>[&#x27;PropType&#x27;, &#x27;District&#x27;, &#x27;Style&#x27;, &#x27;Premium&#x27;]</pre></div></div></div><div class=\"sk-serial\"><div class=\"sk-item\"><div class=\"sk-estimator sk-toggleable\"><input class=\"sk-toggleable__control sk-hidden--visually\" id=\"sk-estimator-id-114\" type=\"checkbox\" ><label for=\"sk-estimator-id-114\" class=\"sk-toggleable__label sk-toggleable__label-arrow\">passthrough</label><div class=\"sk-toggleable__content\"><pre>passthrough</pre></div></div></div></div></div></div></div></div><div class=\"sk-item sk-dashed-wrapped\"><div class=\"sk-label-container\"><div class=\"sk-label sk-toggleable\"><input class=\"sk-toggleable__control sk-hidden--visually\" id=\"sk-estimator-id-115\" type=\"checkbox\" ><label for=\"sk-estimator-id-115\" class=\"sk-toggleable__label sk-toggleable__label-arrow\">prep_b: ColumnTransformer</label><div class=\"sk-toggleable__content\"><pre>ColumnTransformer(transformers=[(&#x27;scale&#x27;, StandardScaler(), [0, 1, 2, 3]),\n",
       "                                (&#x27;ohe&#x27;, OneHotEncoder(handle_unknown=&#x27;ignore&#x27;),\n",
       "                                 [4, 5, 6, 7])])</pre></div></div></div><div class=\"sk-parallel\"><div class=\"sk-parallel-item\"><div class=\"sk-item\"><div class=\"sk-label-container\"><div class=\"sk-label sk-toggleable\"><input class=\"sk-toggleable__control sk-hidden--visually\" id=\"sk-estimator-id-116\" type=\"checkbox\" ><label for=\"sk-estimator-id-116\" class=\"sk-toggleable__label sk-toggleable__label-arrow\">scale</label><div class=\"sk-toggleable__content\"><pre>[0, 1, 2, 3]</pre></div></div></div><div class=\"sk-serial\"><div class=\"sk-item\"><div class=\"sk-estimator sk-toggleable\"><input class=\"sk-toggleable__control sk-hidden--visually\" id=\"sk-estimator-id-117\" type=\"checkbox\" ><label for=\"sk-estimator-id-117\" class=\"sk-toggleable__label sk-toggleable__label-arrow\">StandardScaler</label><div class=\"sk-toggleable__content\"><pre>StandardScaler()</pre></div></div></div></div></div></div><div class=\"sk-parallel-item\"><div class=\"sk-item\"><div class=\"sk-label-container\"><div class=\"sk-label sk-toggleable\"><input class=\"sk-toggleable__control sk-hidden--visually\" id=\"sk-estimator-id-118\" type=\"checkbox\" ><label for=\"sk-estimator-id-118\" class=\"sk-toggleable__label sk-toggleable__label-arrow\">ohe</label><div class=\"sk-toggleable__content\"><pre>[4, 5, 6, 7]</pre></div></div></div><div class=\"sk-serial\"><div class=\"sk-item\"><div class=\"sk-estimator sk-toggleable\"><input class=\"sk-toggleable__control sk-hidden--visually\" id=\"sk-estimator-id-119\" type=\"checkbox\" ><label for=\"sk-estimator-id-119\" class=\"sk-toggleable__label sk-toggleable__label-arrow\">OneHotEncoder</label><div class=\"sk-toggleable__content\"><pre>OneHotEncoder(handle_unknown=&#x27;ignore&#x27;)</pre></div></div></div></div></div></div></div></div><div class=\"sk-item\"><div class=\"sk-estimator sk-toggleable\"><input class=\"sk-toggleable__control sk-hidden--visually\" id=\"sk-estimator-id-120\" type=\"checkbox\" ><label for=\"sk-estimator-id-120\" class=\"sk-toggleable__label sk-toggleable__label-arrow\">GradientBoostingRegressor</label><div class=\"sk-toggleable__content\"><pre>GradientBoostingRegressor(max_depth=4, min_samples_leaf=5, min_samples_split=10,\n",
       "                          random_state=42, subsample=0.9)</pre></div></div></div></div></div></div></div>"
      ],
      "text/plain": [
       "Pipeline(steps=[('prep_a',\n",
       "                 ColumnTransformer(remainder='passthrough',\n",
       "                                   transformers=[('imp',\n",
       "                                                  IterativeImputer(random_state=42),\n",
       "                                                  [0, 1, 2, 3])])),\n",
       "                ('prep_b',\n",
       "                 ColumnTransformer(transformers=[('scale', StandardScaler(),\n",
       "                                                  [0, 1, 2, 3]),\n",
       "                                                 ('ohe',\n",
       "                                                  OneHotEncoder(handle_unknown='ignore'),\n",
       "                                                  [4, 5, 6, 7])])),\n",
       "                ('model',\n",
       "                 GradientBoostingRegressor(max_depth=4, min_samples_leaf=5,\n",
       "                                           min_samples_split=10,\n",
       "                                           random_state=42, subsample=0.9))])"
      ]
     },
     "execution_count": 84,
     "metadata": {},
     "output_type": "execute_result"
    }
   ],
   "source": [
    "%%time\n",
    "pipeline_4.fit(X=train_data[cols_set_4], y=train_data[y])"
   ]
  },
  {
   "cell_type": "code",
   "execution_count": 85,
   "metadata": {},
   "outputs": [
    {
     "data": {
      "text/plain": [
       "0.6659602196168033"
      ]
     },
     "execution_count": 85,
     "metadata": {},
     "output_type": "execute_result"
    }
   ],
   "source": [
    "pipeline_4.score(X=test_data[cols_set_4], y=test_data[y])"
   ]
  },
  {
   "cell_type": "markdown",
   "metadata": {},
   "source": [
    "#### Fluch der Dimensionalität"
   ]
  },
  {
   "cell_type": "code",
   "execution_count": 86,
   "metadata": {},
   "outputs": [
    {
     "data": {
      "text/plain": [
       "<1839x50 sparse matrix of type '<class 'numpy.float64'>'\n",
       "\twith 14710 stored elements in Compressed Sparse Row format>"
      ]
     },
     "execution_count": 86,
     "metadata": {},
     "output_type": "execute_result"
    }
   ],
   "source": [
    "pipeline_4[:-1].transform(X=test_data[cols_set_4])"
   ]
  },
  {
   "cell_type": "markdown",
   "metadata": {},
   "source": [
    "Einige der Features sind hochkardinal, das führt zu einer unglaublich großen Feature Matrix. Der GradientBoostingRegressor kann out-of-the-box noch damit rechnen, weitere Verarbeitung, die eine Matrix nicht im SciPy Sparse Matrix Format erfordern würde, sind aber deutlich erschwert!"
   ]
  },
  {
   "cell_type": "markdown",
   "metadata": {},
   "source": [
    "## XAI"
   ]
  },
  {
   "cell_type": "code",
   "execution_count": 87,
   "metadata": {},
   "outputs": [],
   "source": [
    "transformed_test_4 = pipeline_4[:-1].transform(test_data[cols_set_4]).toarray()"
   ]
  },
  {
   "cell_type": "code",
   "execution_count": 88,
   "metadata": {},
   "outputs": [
    {
     "data": {
      "text/plain": [
       "array([[-0.62462503,  4.17677251, -0.25451027, ...,  0.        ,\n",
       "         1.        ,  0.        ],\n",
       "       [ 1.0370493 ,  0.04957811, -0.67037187, ...,  0.        ,\n",
       "         1.        ,  0.        ],\n",
       "       [-0.62462503, -0.3489707 , -0.78618143, ...,  0.        ,\n",
       "         1.        ,  0.        ],\n",
       "       ...,\n",
       "       [ 1.0370493 , -0.12755469,  2.53895667, ...,  0.        ,\n",
       "         1.        ,  0.        ],\n",
       "       [-0.62462503, -0.51724687, -1.36347454, ...,  0.        ,\n",
       "         1.        ,  0.        ],\n",
       "       [ 1.0370493 , -0.81246821,  0.35436726, ...,  0.        ,\n",
       "         1.        ,  0.        ]])"
      ]
     },
     "execution_count": 88,
     "metadata": {},
     "output_type": "execute_result"
    }
   ],
   "source": [
    "transformed_test_4"
   ]
  },
  {
   "cell_type": "code",
   "execution_count": 89,
   "metadata": {},
   "outputs": [],
   "source": [
    "import shap\n",
    "\n",
    "explainer_4 = shap.TreeExplainer(pipeline_4.named_steps[\"model\"])\n",
    "shap_values = explainer_4.shap_values(transformed_test_4)"
   ]
  },
  {
   "cell_type": "code",
   "execution_count": 90,
   "metadata": {},
   "outputs": [
    {
     "data": {
      "image/png": "[encoded data removed]",
      "text/plain": [
       "<Figure size 800x950 with 2 Axes>"
      ]
     },
     "metadata": {},
     "output_type": "display_data"
    }
   ],
   "source": [
    "shap.summary_plot(\n",
    "    shap_values=shap_values,\n",
    "    features=transformed_test_4,\n",
    "    feature_names=pipeline_4[:-1].get_feature_names_out(),\n",
    ")"
   ]
  },
  {
   "cell_type": "markdown",
   "metadata": {},
   "source": []
  },
  {
   "cell_type": "code",
   "execution_count": 91,
   "metadata": {},
   "outputs": [],
   "source": [
    "import shap"
   ]
  },
  {
   "cell_type": "code",
   "execution_count": 92,
   "metadata": {},
   "outputs": [],
   "source": [
    "explainer_4 = shap.TreeExplainer(model=est_4)\n",
    "shap_values_test_4 = explainer_4.shap_values(X=transformed_test_4)"
   ]
  },
  {
   "cell_type": "code",
   "execution_count": 93,
   "metadata": {},
   "outputs": [],
   "source": [
    "explanation_4 = explainer_4(X=transformed_test_4)"
   ]
  },
  {
   "cell_type": "code",
   "execution_count": 94,
   "metadata": {},
   "outputs": [
    {
     "data": {
      "text/plain": [
       "array([152180.33448095])"
      ]
     },
     "execution_count": 94,
     "metadata": {},
     "output_type": "execute_result"
    }
   ],
   "source": [
    "explainer_4.expected_value"
   ]
  },
  {
   "cell_type": "code",
   "execution_count": 95,
   "metadata": {},
   "outputs": [
    {
     "data": {
      "text/plain": [
       "152183.65837073303"
      ]
     },
     "execution_count": 95,
     "metadata": {},
     "output_type": "execute_result"
    }
   ],
   "source": [
    "train_data[\"Sale_price\"].mean()"
   ]
  },
  {
   "cell_type": "code",
   "execution_count": 96,
   "metadata": {},
   "outputs": [
    {
     "ename": "AttributeError",
     "evalue": "'numpy.ndarray' object has no attribute 'columns'",
     "output_type": "error",
     "traceback": [
      "\u001b[0;31m---------------------------------------------------------------------------\u001b[0m",
      "\u001b[0;31mAttributeError\u001b[0m                            Traceback (most recent call last)",
      "Cell \u001b[0;32mIn[96], line 4\u001b[0m\n\u001b[1;32m      1\u001b[0m shap\u001b[38;5;241m.\u001b[39msummary_plot(\n\u001b[1;32m      2\u001b[0m     shap_values\u001b[38;5;241m=\u001b[39mshap_values_test_4,\n\u001b[1;32m      3\u001b[0m     features\u001b[38;5;241m=\u001b[39mtransformed_test_4,\n\u001b[0;32m----> 4\u001b[0m     feature_names\u001b[38;5;241m=\u001b[39m\u001b[43mtransformed_test_4\u001b[49m\u001b[38;5;241;43m.\u001b[39;49m\u001b[43mcolumns\u001b[49m,\n\u001b[1;32m      5\u001b[0m )\n",
      "\u001b[0;31mAttributeError\u001b[0m: 'numpy.ndarray' object has no attribute 'columns'"
     ]
    }
   ],
   "source": [
    "shap.summary_plot(\n",
    "    shap_values=shap_values_test_4,\n",
    "    features=transformed_test_4,\n",
    "    feature_names=transformed_test_4.columns,\n",
    ")"
   ]
  }
 ],
 "metadata": {
  "kernelspec": {
   "display_name": "Python 3.9.12 ('ads3-03-e2e')",
   "language": "python",
   "name": "python3"
  },
  "language_info": {
   "codemirror_mode": {
    "name": "ipython",
    "version": 3
   },
   "file_extension": ".py",
   "mimetype": "text/x-python",
   "name": "python",
   "nbconvert_exporter": "python",
   "pygments_lexer": "ipython3",
   "version": "3.11.8"
  },
  "orig_nbformat": 4,
  "vscode": {
   "interpreter": {
    "hash": "7dda575964029847821f774d67ee288cb7761a9a59c41206532536da7da0cf57"
   }
  }
 },
 "nbformat": 4,
 "nbformat_minor": 2
}
